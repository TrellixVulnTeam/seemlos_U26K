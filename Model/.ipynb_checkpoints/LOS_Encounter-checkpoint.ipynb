{
 "cells": [
  {
   "cell_type": "markdown",
   "metadata": {},
   "source": [
    "# LOS (Encounter)"
   ]
  },
  {
   "cell_type": "markdown",
   "metadata": {},
   "source": [
    "# Data Science and Machine Learning"
   ]
  },
  {
   "cell_type": "markdown",
   "metadata": {},
   "source": [
    "# Project 2020"
   ]
  },
  {
   "cell_type": "code",
   "execution_count": 1,
   "metadata": {},
   "outputs": [],
   "source": [
    "import pandas as pd\n",
    "import numpy as np\n",
    "import math\n",
    "\n",
    "#to plot within notebook\n",
    "import matplotlib as plt\n",
    "%matplotlib inline\n",
    "\n",
    "import datetime as dt\n",
    "from matplotlib import pyplot\n",
    "from sklearn.metrics import mean_squared_error\n",
    "import numpy as np\n",
    "import pickle\n",
    "from sklearn.externals import joblib\n",
    "from sklearn import datasets"
   ]
  },
  {
   "cell_type": "code",
   "execution_count": 2,
   "metadata": {},
   "outputs": [],
   "source": [
    "#Reading the dataset in a dataframe using Pandas\n",
    "df = pd.read_csv(\"../Datasets/Encounter/encounter.csv\")"
   ]
  },
  {
   "cell_type": "code",
   "execution_count": 3,
   "metadata": {},
   "outputs": [
    {
     "data": {
      "text/plain": [
       "(5447, 28)"
      ]
     },
     "execution_count": 3,
     "metadata": {},
     "output_type": "execute_result"
    }
   ],
   "source": [
    "#number of rows and column in the dataset\n",
    "df.shape"
   ]
  },
  {
   "cell_type": "code",
   "execution_count": 4,
   "metadata": {},
   "outputs": [
    {
     "data": {
      "text/html": [
       "<div>\n",
       "<style scoped>\n",
       "    .dataframe tbody tr th:only-of-type {\n",
       "        vertical-align: middle;\n",
       "    }\n",
       "\n",
       "    .dataframe tbody tr th {\n",
       "        vertical-align: top;\n",
       "    }\n",
       "\n",
       "    .dataframe thead th {\n",
       "        text-align: right;\n",
       "    }\n",
       "</style>\n",
       "<table border=\"1\" class=\"dataframe\">\n",
       "  <thead>\n",
       "    <tr style=\"text-align: right;\">\n",
       "      <th></th>\n",
       "      <th>Provider_Org</th>\n",
       "      <th>Encounter_ID</th>\n",
       "      <th>Member_ID</th>\n",
       "      <th>Provider_ID</th>\n",
       "      <th>Provider_NPI</th>\n",
       "      <th>Clinic_ID</th>\n",
       "      <th>Encounter_DateTime</th>\n",
       "      <th>Encounter_Description</th>\n",
       "      <th>CC</th>\n",
       "      <th>Episode_ID</th>\n",
       "      <th>...</th>\n",
       "      <th>medication_orders_count</th>\n",
       "      <th>medication_fulfillment_count</th>\n",
       "      <th>vital_sign_count</th>\n",
       "      <th>therapy_orders_count</th>\n",
       "      <th>therapy_actions_count</th>\n",
       "      <th>immunization_count</th>\n",
       "      <th>Has_Appt</th>\n",
       "      <th>SOAP_Note</th>\n",
       "      <th>consult_ordered</th>\n",
       "      <th>Disposition</th>\n",
       "    </tr>\n",
       "  </thead>\n",
       "  <tbody>\n",
       "    <tr>\n",
       "      <th>0</th>\n",
       "      <td>ExactData Medical Health System</td>\n",
       "      <td>L8694502508698944760</td>\n",
       "      <td>568001602-01</td>\n",
       "      <td>663746638</td>\n",
       "      <td>2531462832</td>\n",
       "      <td>Sidney Hillman Health Center</td>\n",
       "      <td>2005-06-30T19:15:00Z</td>\n",
       "      <td>Lacy visited primary care physician on 6/30/20...</td>\n",
       "      <td>mild occasional lightheadedness</td>\n",
       "      <td>L8694502508698944760</td>\n",
       "      <td>...</td>\n",
       "      <td>1</td>\n",
       "      <td>0</td>\n",
       "      <td>7</td>\n",
       "      <td>0</td>\n",
       "      <td>1</td>\n",
       "      <td>0</td>\n",
       "      <td>True</td>\n",
       "      <td>s:a 33 year old female crystallographer presen...</td>\n",
       "      <td>NaN</td>\n",
       "      <td>ReleasedWithoutLimitations</td>\n",
       "    </tr>\n",
       "    <tr>\n",
       "      <th>1</th>\n",
       "      <td>ExactData Medical Health System</td>\n",
       "      <td>V3046573432409333612</td>\n",
       "      <td>568001602-01</td>\n",
       "      <td>523808810</td>\n",
       "      <td>1380097962</td>\n",
       "      <td>Corner Drug Store</td>\n",
       "      <td>2005-07-01T23:44:00Z</td>\n",
       "      <td>Lacy visited pharmacy on 7/1/2005 6:44:00 PM f...</td>\n",
       "      <td>NaN</td>\n",
       "      <td>L8694502508698944760</td>\n",
       "      <td>...</td>\n",
       "      <td>0</td>\n",
       "      <td>1</td>\n",
       "      <td>0</td>\n",
       "      <td>0</td>\n",
       "      <td>0</td>\n",
       "      <td>0</td>\n",
       "      <td>False</td>\n",
       "      <td>NaN</td>\n",
       "      <td>NaN</td>\n",
       "      <td>ReleasedWithoutLimitations</td>\n",
       "    </tr>\n",
       "    <tr>\n",
       "      <th>2</th>\n",
       "      <td>ExactData Medical Health System</td>\n",
       "      <td>X3228783097331248888</td>\n",
       "      <td>568001602-01</td>\n",
       "      <td>695700114</td>\n",
       "      <td>1261075194</td>\n",
       "      <td>Wood Diagnostic Labs</td>\n",
       "      <td>2005-07-05T14:54:00Z</td>\n",
       "      <td>Lacy visited medical lab on 7/5/2005 9:54:00 A...</td>\n",
       "      <td>NaN</td>\n",
       "      <td>L8694502508698944760</td>\n",
       "      <td>...</td>\n",
       "      <td>0</td>\n",
       "      <td>0</td>\n",
       "      <td>0</td>\n",
       "      <td>0</td>\n",
       "      <td>0</td>\n",
       "      <td>0</td>\n",
       "      <td>False</td>\n",
       "      <td>NaN</td>\n",
       "      <td>NaN</td>\n",
       "      <td>ReleasedWithoutLimitations</td>\n",
       "    </tr>\n",
       "    <tr>\n",
       "      <th>3</th>\n",
       "      <td>ExactData Medical Health System</td>\n",
       "      <td>M3204724885018391695</td>\n",
       "      <td>568001602-01</td>\n",
       "      <td>663746638</td>\n",
       "      <td>2531462832</td>\n",
       "      <td>Sidney Hillman Health Center</td>\n",
       "      <td>2005-10-07T15:45:00Z</td>\n",
       "      <td>Lacy visited primary care physician on 10/7/20...</td>\n",
       "      <td>NaN</td>\n",
       "      <td>M3204724885018391695</td>\n",
       "      <td>...</td>\n",
       "      <td>0</td>\n",
       "      <td>0</td>\n",
       "      <td>7</td>\n",
       "      <td>0</td>\n",
       "      <td>1</td>\n",
       "      <td>1</td>\n",
       "      <td>True</td>\n",
       "      <td>s:33 yr old female crystallographer presents t...</td>\n",
       "      <td>NaN</td>\n",
       "      <td>ReleasedWithoutLimitations</td>\n",
       "    </tr>\n",
       "    <tr>\n",
       "      <th>4</th>\n",
       "      <td>ExactData Medical Health System</td>\n",
       "      <td>G7012345417035113309</td>\n",
       "      <td>568001602-01</td>\n",
       "      <td>695700114</td>\n",
       "      <td>1261075194</td>\n",
       "      <td>Wood Diagnostic Labs</td>\n",
       "      <td>2005-10-12T20:33:00Z</td>\n",
       "      <td>Lacy visited medical lab on 10/12/2005 3:33:00...</td>\n",
       "      <td>NaN</td>\n",
       "      <td>M3204724885018391695</td>\n",
       "      <td>...</td>\n",
       "      <td>0</td>\n",
       "      <td>0</td>\n",
       "      <td>0</td>\n",
       "      <td>0</td>\n",
       "      <td>0</td>\n",
       "      <td>0</td>\n",
       "      <td>False</td>\n",
       "      <td>NaN</td>\n",
       "      <td>NaN</td>\n",
       "      <td>ReleasedWithoutLimitations</td>\n",
       "    </tr>\n",
       "  </tbody>\n",
       "</table>\n",
       "<p>5 rows × 28 columns</p>\n",
       "</div>"
      ],
      "text/plain": [
       "                      Provider_Org          Encounter_ID     Member_ID  \\\n",
       "0  ExactData Medical Health System  L8694502508698944760  568001602-01   \n",
       "1  ExactData Medical Health System  V3046573432409333612  568001602-01   \n",
       "2  ExactData Medical Health System  X3228783097331248888  568001602-01   \n",
       "3  ExactData Medical Health System  M3204724885018391695  568001602-01   \n",
       "4  ExactData Medical Health System  G7012345417035113309  568001602-01   \n",
       "\n",
       "   Provider_ID  Provider_NPI                     Clinic_ID  \\\n",
       "0    663746638    2531462832  Sidney Hillman Health Center   \n",
       "1    523808810    1380097962             Corner Drug Store   \n",
       "2    695700114    1261075194          Wood Diagnostic Labs   \n",
       "3    663746638    2531462832  Sidney Hillman Health Center   \n",
       "4    695700114    1261075194          Wood Diagnostic Labs   \n",
       "\n",
       "     Encounter_DateTime                              Encounter_Description  \\\n",
       "0  2005-06-30T19:15:00Z  Lacy visited primary care physician on 6/30/20...   \n",
       "1  2005-07-01T23:44:00Z  Lacy visited pharmacy on 7/1/2005 6:44:00 PM f...   \n",
       "2  2005-07-05T14:54:00Z  Lacy visited medical lab on 7/5/2005 9:54:00 A...   \n",
       "3  2005-10-07T15:45:00Z  Lacy visited primary care physician on 10/7/20...   \n",
       "4  2005-10-12T20:33:00Z  Lacy visited medical lab on 10/12/2005 3:33:00...   \n",
       "\n",
       "                                CC            Episode_ID  \\\n",
       "0  mild occasional lightheadedness  L8694502508698944760   \n",
       "1                              NaN  L8694502508698944760   \n",
       "2                              NaN  L8694502508698944760   \n",
       "3                              NaN  M3204724885018391695   \n",
       "4                              NaN  M3204724885018391695   \n",
       "\n",
       "              ...             medication_orders_count  \\\n",
       "0             ...                                   1   \n",
       "1             ...                                   0   \n",
       "2             ...                                   0   \n",
       "3             ...                                   0   \n",
       "4             ...                                   0   \n",
       "\n",
       "  medication_fulfillment_count  vital_sign_count therapy_orders_count  \\\n",
       "0                            0                 7                    0   \n",
       "1                            1                 0                    0   \n",
       "2                            0                 0                    0   \n",
       "3                            0                 7                    0   \n",
       "4                            0                 0                    0   \n",
       "\n",
       "  therapy_actions_count immunization_count  Has_Appt  \\\n",
       "0                     1                  0      True   \n",
       "1                     0                  0     False   \n",
       "2                     0                  0     False   \n",
       "3                     1                  1      True   \n",
       "4                     0                  0     False   \n",
       "\n",
       "                                           SOAP_Note  consult_ordered  \\\n",
       "0  s:a 33 year old female crystallographer presen...              NaN   \n",
       "1                                                NaN              NaN   \n",
       "2                                                NaN              NaN   \n",
       "3  s:33 yr old female crystallographer presents t...              NaN   \n",
       "4                                                NaN              NaN   \n",
       "\n",
       "                  Disposition  \n",
       "0  ReleasedWithoutLimitations  \n",
       "1  ReleasedWithoutLimitations  \n",
       "2  ReleasedWithoutLimitations  \n",
       "3  ReleasedWithoutLimitations  \n",
       "4  ReleasedWithoutLimitations  \n",
       "\n",
       "[5 rows x 28 columns]"
      ]
     },
     "execution_count": 4,
     "metadata": {},
     "output_type": "execute_result"
    }
   ],
   "source": [
    "df.head(5)"
   ]
  },
  {
   "cell_type": "code",
   "execution_count": 5,
   "metadata": {},
   "outputs": [
    {
     "data": {
      "text/html": [
       "<div>\n",
       "<style scoped>\n",
       "    .dataframe tbody tr th:only-of-type {\n",
       "        vertical-align: middle;\n",
       "    }\n",
       "\n",
       "    .dataframe tbody tr th {\n",
       "        vertical-align: top;\n",
       "    }\n",
       "\n",
       "    .dataframe thead th {\n",
       "        text-align: right;\n",
       "    }\n",
       "</style>\n",
       "<table border=\"1\" class=\"dataframe\">\n",
       "  <thead>\n",
       "    <tr style=\"text-align: right;\">\n",
       "      <th></th>\n",
       "      <th>Provider_ID</th>\n",
       "      <th>Provider_NPI</th>\n",
       "      <th>Facility_Name</th>\n",
       "      <th>lab_orders_count</th>\n",
       "      <th>lab_results_count</th>\n",
       "      <th>medication_orders_count</th>\n",
       "      <th>medication_fulfillment_count</th>\n",
       "      <th>vital_sign_count</th>\n",
       "      <th>therapy_orders_count</th>\n",
       "      <th>therapy_actions_count</th>\n",
       "      <th>immunization_count</th>\n",
       "    </tr>\n",
       "  </thead>\n",
       "  <tbody>\n",
       "    <tr>\n",
       "      <th>count</th>\n",
       "      <td>5.447000e+03</td>\n",
       "      <td>5.447000e+03</td>\n",
       "      <td>0.0</td>\n",
       "      <td>5447.000000</td>\n",
       "      <td>5447.000000</td>\n",
       "      <td>5447.000000</td>\n",
       "      <td>5447.000000</td>\n",
       "      <td>5447.000000</td>\n",
       "      <td>5447.000000</td>\n",
       "      <td>5447.000000</td>\n",
       "      <td>5447.000000</td>\n",
       "    </tr>\n",
       "    <tr>\n",
       "      <th>mean</th>\n",
       "      <td>5.407194e+08</td>\n",
       "      <td>2.059532e+09</td>\n",
       "      <td>NaN</td>\n",
       "      <td>0.676336</td>\n",
       "      <td>1.066459</td>\n",
       "      <td>0.140261</td>\n",
       "      <td>0.215899</td>\n",
       "      <td>3.348999</td>\n",
       "      <td>0.040573</td>\n",
       "      <td>0.502478</td>\n",
       "      <td>0.069396</td>\n",
       "    </tr>\n",
       "    <tr>\n",
       "      <th>std</th>\n",
       "      <td>2.544013e+08</td>\n",
       "      <td>5.876596e+08</td>\n",
       "      <td>NaN</td>\n",
       "      <td>1.738737</td>\n",
       "      <td>1.315180</td>\n",
       "      <td>0.347818</td>\n",
       "      <td>0.414151</td>\n",
       "      <td>3.497062</td>\n",
       "      <td>0.208184</td>\n",
       "      <td>0.508777</td>\n",
       "      <td>0.292446</td>\n",
       "    </tr>\n",
       "    <tr>\n",
       "      <th>min</th>\n",
       "      <td>1.085816e+08</td>\n",
       "      <td>1.032123e+09</td>\n",
       "      <td>NaN</td>\n",
       "      <td>0.000000</td>\n",
       "      <td>0.000000</td>\n",
       "      <td>0.000000</td>\n",
       "      <td>0.000000</td>\n",
       "      <td>0.000000</td>\n",
       "      <td>0.000000</td>\n",
       "      <td>0.000000</td>\n",
       "      <td>0.000000</td>\n",
       "    </tr>\n",
       "    <tr>\n",
       "      <th>25%</th>\n",
       "      <td>3.610516e+08</td>\n",
       "      <td>1.684152e+09</td>\n",
       "      <td>NaN</td>\n",
       "      <td>0.000000</td>\n",
       "      <td>0.000000</td>\n",
       "      <td>0.000000</td>\n",
       "      <td>0.000000</td>\n",
       "      <td>0.000000</td>\n",
       "      <td>0.000000</td>\n",
       "      <td>0.000000</td>\n",
       "      <td>0.000000</td>\n",
       "    </tr>\n",
       "    <tr>\n",
       "      <th>50%</th>\n",
       "      <td>5.196257e+08</td>\n",
       "      <td>2.056627e+09</td>\n",
       "      <td>NaN</td>\n",
       "      <td>0.000000</td>\n",
       "      <td>1.000000</td>\n",
       "      <td>0.000000</td>\n",
       "      <td>0.000000</td>\n",
       "      <td>0.000000</td>\n",
       "      <td>0.000000</td>\n",
       "      <td>0.000000</td>\n",
       "      <td>0.000000</td>\n",
       "    </tr>\n",
       "    <tr>\n",
       "      <th>75%</th>\n",
       "      <td>7.340647e+08</td>\n",
       "      <td>2.531463e+09</td>\n",
       "      <td>NaN</td>\n",
       "      <td>0.000000</td>\n",
       "      <td>2.000000</td>\n",
       "      <td>0.000000</td>\n",
       "      <td>0.000000</td>\n",
       "      <td>7.000000</td>\n",
       "      <td>0.000000</td>\n",
       "      <td>1.000000</td>\n",
       "      <td>0.000000</td>\n",
       "    </tr>\n",
       "    <tr>\n",
       "      <th>max</th>\n",
       "      <td>9.934232e+08</td>\n",
       "      <td>2.982693e+09</td>\n",
       "      <td>NaN</td>\n",
       "      <td>15.000000</td>\n",
       "      <td>7.000000</td>\n",
       "      <td>2.000000</td>\n",
       "      <td>2.000000</td>\n",
       "      <td>7.000000</td>\n",
       "      <td>2.000000</td>\n",
       "      <td>2.000000</td>\n",
       "      <td>4.000000</td>\n",
       "    </tr>\n",
       "  </tbody>\n",
       "</table>\n",
       "</div>"
      ],
      "text/plain": [
       "        Provider_ID  Provider_NPI  Facility_Name  lab_orders_count  \\\n",
       "count  5.447000e+03  5.447000e+03            0.0       5447.000000   \n",
       "mean   5.407194e+08  2.059532e+09            NaN          0.676336   \n",
       "std    2.544013e+08  5.876596e+08            NaN          1.738737   \n",
       "min    1.085816e+08  1.032123e+09            NaN          0.000000   \n",
       "25%    3.610516e+08  1.684152e+09            NaN          0.000000   \n",
       "50%    5.196257e+08  2.056627e+09            NaN          0.000000   \n",
       "75%    7.340647e+08  2.531463e+09            NaN          0.000000   \n",
       "max    9.934232e+08  2.982693e+09            NaN         15.000000   \n",
       "\n",
       "       lab_results_count  medication_orders_count  \\\n",
       "count        5447.000000              5447.000000   \n",
       "mean            1.066459                 0.140261   \n",
       "std             1.315180                 0.347818   \n",
       "min             0.000000                 0.000000   \n",
       "25%             0.000000                 0.000000   \n",
       "50%             1.000000                 0.000000   \n",
       "75%             2.000000                 0.000000   \n",
       "max             7.000000                 2.000000   \n",
       "\n",
       "       medication_fulfillment_count  vital_sign_count  therapy_orders_count  \\\n",
       "count                   5447.000000       5447.000000           5447.000000   \n",
       "mean                       0.215899          3.348999              0.040573   \n",
       "std                        0.414151          3.497062              0.208184   \n",
       "min                        0.000000          0.000000              0.000000   \n",
       "25%                        0.000000          0.000000              0.000000   \n",
       "50%                        0.000000          0.000000              0.000000   \n",
       "75%                        0.000000          7.000000              0.000000   \n",
       "max                        2.000000          7.000000              2.000000   \n",
       "\n",
       "       therapy_actions_count  immunization_count  \n",
       "count            5447.000000         5447.000000  \n",
       "mean                0.502478            0.069396  \n",
       "std                 0.508777            0.292446  \n",
       "min                 0.000000            0.000000  \n",
       "25%                 0.000000            0.000000  \n",
       "50%                 0.000000            0.000000  \n",
       "75%                 1.000000            0.000000  \n",
       "max                 2.000000            4.000000  "
      ]
     },
     "execution_count": 5,
     "metadata": {},
     "output_type": "execute_result"
    }
   ],
   "source": [
    "#Get summary of numerical variables\n",
    "df.describe()"
   ]
  },
  {
   "cell_type": "code",
   "execution_count": 6,
   "metadata": {},
   "outputs": [],
   "source": [
    "#Get summary of non numerical variables\n",
    "#df['Member_ID'].value_counts()"
   ]
  },
  {
   "cell_type": "code",
   "execution_count": 7,
   "metadata": {},
   "outputs": [],
   "source": [
    "#the number of missing values in each column\n",
    "# df.apply(lambda x: sum(x.isnull()),axis=0) \n",
    "# df.dtypes"
   ]
  },
  {
   "cell_type": "code",
   "execution_count": 8,
   "metadata": {},
   "outputs": [
    {
     "data": {
      "text/html": [
       "<div>\n",
       "<style scoped>\n",
       "    .dataframe tbody tr th:only-of-type {\n",
       "        vertical-align: middle;\n",
       "    }\n",
       "\n",
       "    .dataframe tbody tr th {\n",
       "        vertical-align: top;\n",
       "    }\n",
       "\n",
       "    .dataframe thead th {\n",
       "        text-align: right;\n",
       "    }\n",
       "</style>\n",
       "<table border=\"1\" class=\"dataframe\">\n",
       "  <thead>\n",
       "    <tr style=\"text-align: right;\">\n",
       "      <th></th>\n",
       "      <th>Provider_Org</th>\n",
       "      <th>Encounter_ID</th>\n",
       "      <th>Member_ID</th>\n",
       "      <th>Provider_ID</th>\n",
       "      <th>Provider_NPI</th>\n",
       "      <th>Clinic_ID</th>\n",
       "      <th>Encounter_DateTime</th>\n",
       "      <th>Encounter_Description</th>\n",
       "      <th>CC</th>\n",
       "      <th>Episode_ID</th>\n",
       "      <th>...</th>\n",
       "      <th>medication_orders_count</th>\n",
       "      <th>medication_fulfillment_count</th>\n",
       "      <th>vital_sign_count</th>\n",
       "      <th>therapy_orders_count</th>\n",
       "      <th>therapy_actions_count</th>\n",
       "      <th>immunization_count</th>\n",
       "      <th>Has_Appt</th>\n",
       "      <th>SOAP_Note</th>\n",
       "      <th>consult_ordered</th>\n",
       "      <th>Disposition</th>\n",
       "    </tr>\n",
       "  </thead>\n",
       "  <tbody>\n",
       "    <tr>\n",
       "      <th>0</th>\n",
       "      <td>ExactData Medical Health System</td>\n",
       "      <td>L8694502508698944760</td>\n",
       "      <td>568001602-01</td>\n",
       "      <td>663746638</td>\n",
       "      <td>2531462832</td>\n",
       "      <td>Sidney Hillman Health Center</td>\n",
       "      <td>2005-06-30</td>\n",
       "      <td>Lacy visited primary care physician on 6/30/20...</td>\n",
       "      <td>mild occasional lightheadedness</td>\n",
       "      <td>L8694502508698944760</td>\n",
       "      <td>...</td>\n",
       "      <td>1</td>\n",
       "      <td>0</td>\n",
       "      <td>7</td>\n",
       "      <td>0</td>\n",
       "      <td>1</td>\n",
       "      <td>0</td>\n",
       "      <td>True</td>\n",
       "      <td>s:a 33 year old female crystallographer presen...</td>\n",
       "      <td>NaN</td>\n",
       "      <td>ReleasedWithoutLimitations</td>\n",
       "    </tr>\n",
       "    <tr>\n",
       "      <th>1</th>\n",
       "      <td>ExactData Medical Health System</td>\n",
       "      <td>V3046573432409333612</td>\n",
       "      <td>568001602-01</td>\n",
       "      <td>523808810</td>\n",
       "      <td>1380097962</td>\n",
       "      <td>Corner Drug Store</td>\n",
       "      <td>2005-07-01</td>\n",
       "      <td>Lacy visited pharmacy on 7/1/2005 6:44:00 PM f...</td>\n",
       "      <td>NaN</td>\n",
       "      <td>L8694502508698944760</td>\n",
       "      <td>...</td>\n",
       "      <td>0</td>\n",
       "      <td>1</td>\n",
       "      <td>0</td>\n",
       "      <td>0</td>\n",
       "      <td>0</td>\n",
       "      <td>0</td>\n",
       "      <td>False</td>\n",
       "      <td>NaN</td>\n",
       "      <td>NaN</td>\n",
       "      <td>ReleasedWithoutLimitations</td>\n",
       "    </tr>\n",
       "    <tr>\n",
       "      <th>2</th>\n",
       "      <td>ExactData Medical Health System</td>\n",
       "      <td>X3228783097331248888</td>\n",
       "      <td>568001602-01</td>\n",
       "      <td>695700114</td>\n",
       "      <td>1261075194</td>\n",
       "      <td>Wood Diagnostic Labs</td>\n",
       "      <td>2005-07-05</td>\n",
       "      <td>Lacy visited medical lab on 7/5/2005 9:54:00 A...</td>\n",
       "      <td>NaN</td>\n",
       "      <td>L8694502508698944760</td>\n",
       "      <td>...</td>\n",
       "      <td>0</td>\n",
       "      <td>0</td>\n",
       "      <td>0</td>\n",
       "      <td>0</td>\n",
       "      <td>0</td>\n",
       "      <td>0</td>\n",
       "      <td>False</td>\n",
       "      <td>NaN</td>\n",
       "      <td>NaN</td>\n",
       "      <td>ReleasedWithoutLimitations</td>\n",
       "    </tr>\n",
       "    <tr>\n",
       "      <th>3</th>\n",
       "      <td>ExactData Medical Health System</td>\n",
       "      <td>M3204724885018391695</td>\n",
       "      <td>568001602-01</td>\n",
       "      <td>663746638</td>\n",
       "      <td>2531462832</td>\n",
       "      <td>Sidney Hillman Health Center</td>\n",
       "      <td>2005-10-07</td>\n",
       "      <td>Lacy visited primary care physician on 10/7/20...</td>\n",
       "      <td>NaN</td>\n",
       "      <td>M3204724885018391695</td>\n",
       "      <td>...</td>\n",
       "      <td>0</td>\n",
       "      <td>0</td>\n",
       "      <td>7</td>\n",
       "      <td>0</td>\n",
       "      <td>1</td>\n",
       "      <td>1</td>\n",
       "      <td>True</td>\n",
       "      <td>s:33 yr old female crystallographer presents t...</td>\n",
       "      <td>NaN</td>\n",
       "      <td>ReleasedWithoutLimitations</td>\n",
       "    </tr>\n",
       "    <tr>\n",
       "      <th>4</th>\n",
       "      <td>ExactData Medical Health System</td>\n",
       "      <td>G7012345417035113309</td>\n",
       "      <td>568001602-01</td>\n",
       "      <td>695700114</td>\n",
       "      <td>1261075194</td>\n",
       "      <td>Wood Diagnostic Labs</td>\n",
       "      <td>2005-10-12</td>\n",
       "      <td>Lacy visited medical lab on 10/12/2005 3:33:00...</td>\n",
       "      <td>NaN</td>\n",
       "      <td>M3204724885018391695</td>\n",
       "      <td>...</td>\n",
       "      <td>0</td>\n",
       "      <td>0</td>\n",
       "      <td>0</td>\n",
       "      <td>0</td>\n",
       "      <td>0</td>\n",
       "      <td>0</td>\n",
       "      <td>False</td>\n",
       "      <td>NaN</td>\n",
       "      <td>NaN</td>\n",
       "      <td>ReleasedWithoutLimitations</td>\n",
       "    </tr>\n",
       "  </tbody>\n",
       "</table>\n",
       "<p>5 rows × 28 columns</p>\n",
       "</div>"
      ],
      "text/plain": [
       "                      Provider_Org          Encounter_ID     Member_ID  \\\n",
       "0  ExactData Medical Health System  L8694502508698944760  568001602-01   \n",
       "1  ExactData Medical Health System  V3046573432409333612  568001602-01   \n",
       "2  ExactData Medical Health System  X3228783097331248888  568001602-01   \n",
       "3  ExactData Medical Health System  M3204724885018391695  568001602-01   \n",
       "4  ExactData Medical Health System  G7012345417035113309  568001602-01   \n",
       "\n",
       "   Provider_ID  Provider_NPI                     Clinic_ID Encounter_DateTime  \\\n",
       "0    663746638    2531462832  Sidney Hillman Health Center         2005-06-30   \n",
       "1    523808810    1380097962             Corner Drug Store         2005-07-01   \n",
       "2    695700114    1261075194          Wood Diagnostic Labs         2005-07-05   \n",
       "3    663746638    2531462832  Sidney Hillman Health Center         2005-10-07   \n",
       "4    695700114    1261075194          Wood Diagnostic Labs         2005-10-12   \n",
       "\n",
       "                               Encounter_Description  \\\n",
       "0  Lacy visited primary care physician on 6/30/20...   \n",
       "1  Lacy visited pharmacy on 7/1/2005 6:44:00 PM f...   \n",
       "2  Lacy visited medical lab on 7/5/2005 9:54:00 A...   \n",
       "3  Lacy visited primary care physician on 10/7/20...   \n",
       "4  Lacy visited medical lab on 10/12/2005 3:33:00...   \n",
       "\n",
       "                                CC            Episode_ID  \\\n",
       "0  mild occasional lightheadedness  L8694502508698944760   \n",
       "1                              NaN  L8694502508698944760   \n",
       "2                              NaN  L8694502508698944760   \n",
       "3                              NaN  M3204724885018391695   \n",
       "4                              NaN  M3204724885018391695   \n",
       "\n",
       "              ...             medication_orders_count  \\\n",
       "0             ...                                   1   \n",
       "1             ...                                   0   \n",
       "2             ...                                   0   \n",
       "3             ...                                   0   \n",
       "4             ...                                   0   \n",
       "\n",
       "  medication_fulfillment_count  vital_sign_count therapy_orders_count  \\\n",
       "0                            0                 7                    0   \n",
       "1                            1                 0                    0   \n",
       "2                            0                 0                    0   \n",
       "3                            0                 7                    0   \n",
       "4                            0                 0                    0   \n",
       "\n",
       "  therapy_actions_count immunization_count  Has_Appt  \\\n",
       "0                     1                  0      True   \n",
       "1                     0                  0     False   \n",
       "2                     0                  0     False   \n",
       "3                     1                  1      True   \n",
       "4                     0                  0     False   \n",
       "\n",
       "                                           SOAP_Note  consult_ordered  \\\n",
       "0  s:a 33 year old female crystallographer presen...              NaN   \n",
       "1                                                NaN              NaN   \n",
       "2                                                NaN              NaN   \n",
       "3  s:33 yr old female crystallographer presents t...              NaN   \n",
       "4                                                NaN              NaN   \n",
       "\n",
       "                  Disposition  \n",
       "0  ReleasedWithoutLimitations  \n",
       "1  ReleasedWithoutLimitations  \n",
       "2  ReleasedWithoutLimitations  \n",
       "3  ReleasedWithoutLimitations  \n",
       "4  ReleasedWithoutLimitations  \n",
       "\n",
       "[5 rows x 28 columns]"
      ]
     },
     "execution_count": 8,
     "metadata": {},
     "output_type": "execute_result"
    }
   ],
   "source": [
    "#Converting date to format day-month-year\n",
    "# .apply(lambda x: dt.datetime.strftime(x, '%d-%m-%Y'))\n",
    "df['Encounter_DateTime'] = pd.to_datetime(df['Encounter_DateTime']).dt.date\n",
    "# df['Encounter_DateTime'].dt.date.head(50)\n",
    "df.head(5)"
   ]
  },
  {
   "cell_type": "code",
   "execution_count": 101,
   "metadata": {},
   "outputs": [
    {
     "data": {
      "text/plain": [
       "(2376, 2)"
      ]
     },
     "execution_count": 101,
     "metadata": {},
     "output_type": "execute_result"
    }
   ],
   "source": [
    "series = df['Encounter_DateTime'].value_counts()\n",
    "series = pd.DataFrame(series)\n",
    "# Reset the index of dataframe\n",
    "series = series.reset_index()\n",
    "series.columns = ['Date', 'Patient']\n",
    "# **********\n",
    "# series['Patient'] = np.random.randint(10,1000, size=len(series))\n",
    "# **********\n",
    "# sorting usind the date\n",
    "series_summary = series.sort_values(by=['Date'], ascending=True)\n",
    "series_summary.tail(10)\n",
    "series_summary.shape"
   ]
  },
  {
   "cell_type": "code",
   "execution_count": 109,
   "metadata": {},
   "outputs": [
    {
     "data": {
      "image/png": "[encoded data removed]",
      "text/plain": [
       "<Figure size 1152x576 with 1 Axes>"
      ]
     },
     "metadata": {
      "needs_background": "light"
     },
     "output_type": "display_data"
    }
   ],
   "source": [
    "#setting index as date\n",
    "#df['Date'] = pd.to_datetime(df.Date,format='%Y-%m-%d')\n",
    "series_summary.index = series_summary['Date']\n",
    "# series_summary.drop('Date', axis=1, inplace=True)\n",
    "\n",
    "#plot\n",
    "pyplot.figure(figsize=(16,8))\n",
    "pyplot.title('Total Patient history')\n",
    "pyplot.plot(series_summary['Patient'])\n",
    "pyplot.xlabel('Date',fontsize=18)\n",
    "pyplot.ylabel('Number Of Patients',fontsize=18)\n",
    "pyplot.show()\n",
    "# pyplot.plot(series_summary['Patient'], label='Total Patient history')\n",
    "# series_summary"
   ]
  },
  {
   "cell_type": "markdown",
   "metadata": {},
   "source": [
    "# Model Long Short Term Memory (LSTM)"
   ]
  },
  {
   "cell_type": "markdown",
   "metadata": {},
   "source": [
    "# Days "
   ]
  },
  {
   "cell_type": "code",
   "execution_count": 11,
   "metadata": {},
   "outputs": [],
   "source": [
    "#importing required libraries\n",
    "from sklearn.preprocessing import MinMaxScaler\n",
    "import tensorflow as tf\n",
    "from tensorflow.keras.models import Sequential\n",
    "from tensorflow.keras.layers import Dense, Dropout, LSTM"
   ]
  },
  {
   "cell_type": "code",
   "execution_count": 108,
   "metadata": {},
   "outputs": [],
   "source": [
    "#creating dataframe\n",
    "data = series_summary.sort_index(ascending=True, axis=0)\n",
    "new_data = pd.DataFrame(index=range(0,len(series_summary)),columns=['Date', 'Patient'])\n",
    "for i in range(0,len(data)):\n",
    "    new_data['Date'][i] = data['Date'][i]\n",
    "    new_data['Patient'][i] = data['Patient'][i]\n",
    "# new_data"
   ]
  },
  {
   "cell_type": "code",
   "execution_count": 26,
   "metadata": {},
   "outputs": [],
   "source": [
    "#setting index\n",
    "new_data.index = new_data.Date\n",
    "new_data.drop('Date', axis=1, inplace=True)\n",
    "# new_data\n",
    "new_data.to_csv(r'..\\Datasets\\Encounter\\Cleaned\\dailyEncounter.csv')"
   ]
  },
  {
   "cell_type": "code",
   "execution_count": 80,
   "metadata": {},
   "outputs": [
    {
     "name": "stderr",
     "output_type": "stream",
     "text": [
      "C:\\ProgramData\\Anaconda3\\lib\\site-packages\\sklearn\\utils\\validation.py:475: DataConversionWarning: Data with input dtype object was converted to float64 by MinMaxScaler.\n",
      "  warnings.warn(msg, DataConversionWarning)\n"
     ]
    }
   ],
   "source": [
    "#Converting the dataframe to a numpy array\n",
    "dataset = new_data.values\n",
    "# #Get /Compute the number of rows to train the model on\n",
    "# training_data_len = math.ceil( len(dataset) *.8)\n",
    "# training the whole dataset\n",
    "training_data_len = len(dataset)\n",
    "#Scale the all of the data to be values between 0 and 1\n",
    "scaler = MinMaxScaler(feature_range=(0, 1))\n",
    "scaled_data = scaler.fit_transform(dataset)\n",
    "#Create the scaled training data set \n",
    "train = scaled_data[0:training_data_len  , : ]\n",
    "#OR\n",
    "#creating train and test sets\n",
    "# train = dataset[0:training_data_len,:]\n",
    "# valid = dataset[training_data_len:,:]\n",
    "# new_data\n",
    "# train\n",
    "# training_data_len"
   ]
  },
  {
   "cell_type": "code",
   "execution_count": 81,
   "metadata": {},
   "outputs": [],
   "source": [
    "#converting dataset into x_train and y_train\n",
    "# x_train, y_train = train[:, :-1], train[:,-1]\n",
    "x_train, y_train = [], []\n",
    "for i in range(60,len(train)):\n",
    "    x_train.append(train[i-60:i,0])\n",
    "    y_train.append(train[i,0])\n",
    "#OR\n",
    "# for i in range(60,len(train)):\n",
    "#     x_train.append(scaled_data[i-60:i,0])\n",
    "#     y_train.append(scaled_data[i,0])\n",
    "\n",
    "#Convert x_train and y_train to numpy arrays\n",
    "x_train, y_train = np.array(x_train), np.array(y_train)\n",
    "#Reshape the data into the shape accepted by the LSTM\n",
    "x_train = np.reshape(x_train, (x_train.shape[0],x_train.shape[1],1))"
   ]
  },
  {
   "cell_type": "code",
   "execution_count": 82,
   "metadata": {},
   "outputs": [
    {
     "name": "stdout",
     "output_type": "stream",
     "text": [
      "Train on 2316 samples\n",
      "Epoch 1/20\n",
      "2316/2316 - 10s - loss: 0.0305\n",
      "Epoch 2/20\n",
      "2316/2316 - 4s - loss: 0.0271\n",
      "Epoch 3/20\n",
      "2316/2316 - 4s - loss: 0.0269\n",
      "Epoch 4/20\n",
      "2316/2316 - 4s - loss: 0.0270\n",
      "Epoch 5/20\n",
      "2316/2316 - 4s - loss: 0.0267\n",
      "Epoch 6/20\n",
      "2316/2316 - 5s - loss: 0.0269\n",
      "Epoch 7/20\n",
      "2316/2316 - 5s - loss: 0.0269\n",
      "Epoch 8/20\n",
      "2316/2316 - 4s - loss: 0.0268\n",
      "Epoch 9/20\n",
      "2316/2316 - 4s - loss: 0.0269\n",
      "Epoch 10/20\n",
      "2316/2316 - 4s - loss: 0.0268\n",
      "Epoch 11/20\n",
      "2316/2316 - 4s - loss: 0.0267\n",
      "Epoch 12/20\n",
      "2316/2316 - 4s - loss: 0.0269\n",
      "Epoch 13/20\n",
      "2316/2316 - 4s - loss: 0.0267\n",
      "Epoch 14/20\n",
      "2316/2316 - 4s - loss: 0.0269\n",
      "Epoch 15/20\n",
      "2316/2316 - 4s - loss: 0.0268\n",
      "Epoch 16/20\n",
      "2316/2316 - 4s - loss: 0.0269\n",
      "Epoch 17/20\n",
      "2316/2316 - 4s - loss: 0.0268\n",
      "Epoch 18/20\n",
      "2316/2316 - 5s - loss: 0.0268\n",
      "Epoch 19/20\n",
      "2316/2316 - 4s - loss: 0.0269\n",
      "Epoch 20/20\n",
      "2316/2316 - 4s - loss: 0.0269\n"
     ]
    },
    {
     "data": {
      "text/plain": [
       "<tensorflow.python.keras.callbacks.History at 0x2c4b2a50c50>"
      ]
     },
     "execution_count": 82,
     "metadata": {},
     "output_type": "execute_result"
    }
   ],
   "source": [
    "# create and fit the LSTM network\n",
    "model = Sequential()\n",
    "\n",
    "#Adding the first LSTM layer and some Dropout regularisation\n",
    "model.add(LSTM(units=50, return_sequences=True, input_shape=(x_train.shape[1],1)))\n",
    "model.add(Dropout(0.1))\n",
    "\n",
    "# Adding a second LSTM layer and some Dropout regularisation\n",
    "model.add(LSTM(units = 50))\n",
    "model.add(Dropout(0.1))\n",
    "\n",
    "# Adding the output layer\n",
    "# model.add(Dense(units=25))\n",
    "model.add(Dense(units=1))\n",
    "# model.add(Dense(1))\n",
    "\n",
    "#Compile the model\n",
    "model.compile(optimizer='adam', loss='mean_squared_error')\n",
    "#Train the model\n",
    "# model.fit(x_train, y_train, epochs=100, batch_size=100, verbose=2)\n",
    "model.fit(x_train, y_train, epochs=20, batch_size=100, verbose=2)"
   ]
  },
  {
   "cell_type": "code",
   "execution_count": 83,
   "metadata": {},
   "outputs": [],
   "source": [
    "# Create the distribution strategy\n",
    "# mirrored_strategy = tf.distribute.MirroredStrategy()\n",
    "# with mirrored_strategy.scope():\n",
    "#     model = model"
   ]
  },
  {
   "cell_type": "code",
   "execution_count": 84,
   "metadata": {},
   "outputs": [],
   "source": [
    "# #Test data set\n",
    "# test_data = scaled_data[training_data_len - 60: , : ]\n",
    "#Test data set on tomorrow \n",
    "test_data = scaled_data[training_data_len-4 - 60: , : ]\n",
    "#Create the x_test and y_test data sets\n",
    "x_test = []\n",
    "# y_test =  dataset[training_data_len : , : ]\n",
    "#Get all of the rows from index 1603 to the rest and all of the columns (in this case it's only column 'Close'), so 2003 - 1603 = 400 rows of data\n",
    "for i in range(60,len(test_data)):\n",
    "    x_test.append(test_data[i-60:i,0])\n",
    "#Convert x_test to a numpy array \n",
    "x_test = np.array(x_test)\n",
    "#Reshape the data into the shape accepted by the LSTM\n",
    "x_test = np.reshape(x_test, (x_test.shape[0],x_test.shape[1],1))\n",
    "#Getting the models predicted price values\n",
    "predictions = model.predict(x_test) \n",
    "predictions = scaler.inverse_transform(predictions)#Undo scaling\n",
    "#OR\n",
    "#predicting 246 values, using past 60 from the train data\n",
    "# inputs = new_data[len(new_data) - len(valid) - 60:].values\n",
    "# inputs = inputs.reshape(-1,1)\n",
    "# inputs  = scaler.transform(inputs)\n",
    "\n",
    "# X_test = []\n",
    "# for i in range(60,inputs.shape[0]):\n",
    "#     X_test.append(inputs[i-60:i,0])\n",
    "# X_test = np.array(X_test)\n",
    "\n",
    "# X_test = np.reshape(X_test, (X_test.shape[0],X_test.shape[1],1))\n",
    "# patients_no = model.predict(X_test)\n",
    "# patients_no = scaler.inverse_transform(patients_no)"
   ]
  },
  {
   "cell_type": "code",
   "execution_count": 85,
   "metadata": {},
   "outputs": [
    {
     "data": {
      "text/plain": [
       "(64, 1)"
      ]
     },
     "execution_count": 85,
     "metadata": {},
     "output_type": "execute_result"
    }
   ],
   "source": [
    "test_data.shape"
   ]
  },
  {
   "cell_type": "code",
   "execution_count": 86,
   "metadata": {},
   "outputs": [
    {
     "data": {
      "text/plain": [
       "array([[2.2139692],\n",
       "       [2.2093165],\n",
       "       [2.1891477],\n",
       "       [2.132629 ]], dtype=float32)"
      ]
     },
     "execution_count": 86,
     "metadata": {},
     "output_type": "execute_result"
    }
   ],
   "source": [
    "predictions"
   ]
  },
  {
   "cell_type": "code",
   "execution_count": 87,
   "metadata": {},
   "outputs": [
    {
     "data": {
      "text/plain": [
       "(4, 60, 1)"
      ]
     },
     "execution_count": 87,
     "metadata": {},
     "output_type": "execute_result"
    }
   ],
   "source": [
    "x_test.shape"
   ]
  },
  {
   "cell_type": "markdown",
   "metadata": {},
   "source": [
    "# Results"
   ]
  },
  {
   "cell_type": "code",
   "execution_count": 75,
   "metadata": {},
   "outputs": [
    {
     "data": {
      "text/plain": [
       "1.4273733506928779"
      ]
     },
     "execution_count": 75,
     "metadata": {},
     "output_type": "execute_result"
    }
   ],
   "source": [
    "#Calculate/Get the value of RMSE\n",
    "rmse=np.sqrt(np.mean(((predictions- y_test)**2)))\n",
    "rmse\n",
    "#OR\n",
    "# rms=np.sqrt(np.mean(np.power((valid-patients_no),2)))\n",
    "# rms"
   ]
  },
  {
   "cell_type": "code",
   "execution_count": 76,
   "metadata": {},
   "outputs": [
    {
     "name": "stderr",
     "output_type": "stream",
     "text": [
      "C:\\ProgramData\\Anaconda3\\lib\\site-packages\\ipykernel_launcher.py:4: SettingWithCopyWarning: \n",
      "A value is trying to be set on a copy of a slice from a DataFrame.\n",
      "Try using .loc[row_indexer,col_indexer] = value instead\n",
      "\n",
      "See the caveats in the documentation: http://pandas.pydata.org/pandas-docs/stable/indexing.html#indexing-view-versus-copy\n",
      "  after removing the cwd from sys.path.\n"
     ]
    },
    {
     "data": {
      "image/png": "[encoded data removed]",
      "text/plain": [
       "<Figure size 1152x576 with 1 Axes>"
      ]
     },
     "metadata": {
      "needs_background": "light"
     },
     "output_type": "display_data"
    }
   ],
   "source": [
    "#Plot/Create the data for the graph\n",
    "train = new_data[:training_data_len]\n",
    "valid = new_data[training_data_len:]\n",
    "valid['Predictions'] = predictions\n",
    "#Visualize the data\n",
    "pyplot.figure(figsize=(16,8))\n",
    "pyplot.title('Model')\n",
    "pyplot.xlabel('Date', fontsize=18)\n",
    "pyplot.ylabel('Number Of Patients', fontsize=18)\n",
    "pyplot.plot(train['Patient'])\n",
    "pyplot.plot(valid[['Patient', 'Predictions']])\n",
    "pyplot.legend(['Train', 'Val', 'Predictions'], loc='upper right')\n",
    "pyplot.show()\n",
    "#OR\n",
    "#for plotting\n",
    "# train = new_data[:1900]\n",
    "# valid = new_data[1900:]\n",
    "# valid['Predictions'] = patients_no\n",
    "# pyplot.figure(figsize=(20,10))\n",
    "# pyplot.plot(train['Patient'])\n",
    "# pyplot.plot(valid[['Patient','Predictions']])\n",
    "#plot\n",
    "# pyplot.figure(figsize=(16,8))\n",
    "# pyplot.plot(series_summary['Quantity'], label='Total Quantity history')"
   ]
  },
  {
   "cell_type": "code",
   "execution_count": 77,
   "metadata": {},
   "outputs": [
    {
     "data": {
      "text/html": [
       "<div>\n",
       "<style scoped>\n",
       "    .dataframe tbody tr th:only-of-type {\n",
       "        vertical-align: middle;\n",
       "    }\n",
       "\n",
       "    .dataframe tbody tr th {\n",
       "        vertical-align: top;\n",
       "    }\n",
       "\n",
       "    .dataframe thead th {\n",
       "        text-align: right;\n",
       "    }\n",
       "</style>\n",
       "<table border=\"1\" class=\"dataframe\">\n",
       "  <thead>\n",
       "    <tr style=\"text-align: right;\">\n",
       "      <th></th>\n",
       "      <th>Patient</th>\n",
       "      <th>Predictions</th>\n",
       "    </tr>\n",
       "    <tr>\n",
       "      <th>Date</th>\n",
       "      <th></th>\n",
       "      <th></th>\n",
       "    </tr>\n",
       "  </thead>\n",
       "  <tbody>\n",
       "    <tr>\n",
       "      <th>2013-01-03</th>\n",
       "      <td>1</td>\n",
       "      <td>2.110473</td>\n",
       "    </tr>\n",
       "    <tr>\n",
       "      <th>2013-01-04</th>\n",
       "      <td>2</td>\n",
       "      <td>2.096902</td>\n",
       "    </tr>\n",
       "    <tr>\n",
       "      <th>2013-01-07</th>\n",
       "      <td>1</td>\n",
       "      <td>2.100698</td>\n",
       "    </tr>\n",
       "    <tr>\n",
       "      <th>2013-01-08</th>\n",
       "      <td>5</td>\n",
       "      <td>2.089244</td>\n",
       "    </tr>\n",
       "    <tr>\n",
       "      <th>2013-01-09</th>\n",
       "      <td>3</td>\n",
       "      <td>2.177308</td>\n",
       "    </tr>\n",
       "  </tbody>\n",
       "</table>\n",
       "</div>"
      ],
      "text/plain": [
       "           Patient  Predictions\n",
       "Date                           \n",
       "2013-01-03       1     2.110473\n",
       "2013-01-04       2     2.096902\n",
       "2013-01-07       1     2.100698\n",
       "2013-01-08       5     2.089244\n",
       "2013-01-09       3     2.177308"
      ]
     },
     "execution_count": 77,
     "metadata": {},
     "output_type": "execute_result"
    }
   ],
   "source": [
    "#Show the valid and predicted prices\n",
    "valid.head(5)\n",
    "# valid.shape\n",
    "#OR\n",
    "# actual = pd.DataFrame(new_data['Patient'].tail(9))\n",
    "# predicted = pd.DataFrame(valid['Predictions'])\n",
    "# compare = actual.join(predicted)\n",
    "# compare"
   ]
  },
  {
   "cell_type": "code",
   "execution_count": 88,
   "metadata": {},
   "outputs": [],
   "source": [
    "# pickle.dump(model, 'model.pkl', 'wb')\n",
    "# pickle.dump(model, open('encounter_model_LSTM.pkl', 'wb'))\n",
    "# joblib.dump(model, 'model.pkl')\n",
    "model.save('daily_encounter_model_LSTM.h5')\n",
    "model.save('encounter_model_LSTM.h5')"
   ]
  },
  {
   "cell_type": "code",
   "execution_count": 89,
   "metadata": {},
   "outputs": [],
   "source": [
    "# loaded_model = joblib.load('encounter_model_LSTM.pkl')\n",
    "# loaded_model = pickle.load(open(\"encounter_model_LSTM.pkl\", \"rb\"))\n",
    "loaded_model = tf.keras.models.load_model('daily_encounter_model_LSTM.h5')\n",
    "loaded_model = tf.keras.models.load_model('daily_encounter_model_LSTM.h5')"
   ]
  },
  {
   "cell_type": "code",
   "execution_count": 90,
   "metadata": {},
   "outputs": [
    {
     "data": {
      "text/plain": [
       "<tensorflow.python.keras.engine.sequential.Sequential at 0x2c4ba7e7518>"
      ]
     },
     "execution_count": 90,
     "metadata": {},
     "output_type": "execute_result"
    }
   ],
   "source": [
    "loaded_model"
   ]
  },
  {
   "cell_type": "code",
   "execution_count": 91,
   "metadata": {},
   "outputs": [
    {
     "name": "stderr",
     "output_type": "stream",
     "text": [
      "C:\\ProgramData\\Anaconda3\\lib\\site-packages\\sklearn\\utils\\validation.py:475: DataConversionWarning: Data with input dtype int64 was converted to float64 by MinMaxScaler.\n",
      "  warnings.warn(msg, DataConversionWarning)\n"
     ]
    }
   ],
   "source": [
    "# Export Pandas DataFrame to a CSV File\n",
    "dailyEncounter = pd.read_csv(\"../Datasets/Encounter/Cleaned/dailyEncounter.csv\")\n",
    "#setting index as date\n",
    "dailyEncounter['Date'] = pd.to_datetime(dailyEncounter.Date,format='%Y-%m-%d')\n",
    "dailyEncounter.index = dailyEncounter['Date']\n",
    "dailyEncounter.drop('Date', axis=1, inplace=True)\n",
    "#Converting the dataframe to a numpy array\n",
    "daily_dataset = dailyEncounter.values\n",
    "#Get teh last 60 day closing price \n",
    "last_60_days = dailyEncounter[-60:].values\n",
    "#Scale the all of the data to be values between 0 and 1\n",
    "scaler = MinMaxScaler(feature_range=(0, 1)) \n",
    "daily_scaled_data = scaler.fit_transform(daily_dataset)\n",
    "#Scale the data to be values between 0 and 1\n",
    "last_60_days_scaled = scaler.transform(last_60_days)"
   ]
  },
  {
   "cell_type": "markdown",
   "metadata": {},
   "source": [
    "# Predict Only One Day"
   ]
  },
  {
   "cell_type": "code",
   "execution_count": 92,
   "metadata": {},
   "outputs": [],
   "source": [
    "#Create an empty list\n",
    "X_test = []\n",
    "#Append the past 60 days\n",
    "X_test.append(last_60_days_scaled)\n",
    "#Convert the X_test data set to a numpy array\n",
    "X_test = np.array(X_test)\n",
    "#Reshape the data\n",
    "X_test = np.reshape(X_test, (X_test.shape[0], X_test.shape[1], 1))\n",
    "#Get the predicted scaled price\n",
    "pred_price = loaded_model.predict(X_test)\n",
    "#undo the scaling \n",
    "pred_price = scaler.inverse_transform(pred_price)"
   ]
  },
  {
   "cell_type": "code",
   "execution_count": 93,
   "metadata": {},
   "outputs": [
    {
     "data": {
      "text/plain": [
       "array([[2.0625155]], dtype=float32)"
      ]
     },
     "execution_count": 93,
     "metadata": {},
     "output_type": "execute_result"
    }
   ],
   "source": [
    "pred_price"
   ]
  },
  {
   "cell_type": "markdown",
   "metadata": {},
   "source": [
    "# Predict Multiple Days"
   ]
  },
  {
   "cell_type": "code",
   "execution_count": 94,
   "metadata": {},
   "outputs": [],
   "source": [
    "data_len = len(dataset)\n",
    "#Test data set\n",
    "loaded_test_data = daily_scaled_data[data_len-4 - 60: , : ]\n",
    "#Create the x_test and y_test data sets\n",
    "x_test = []\n",
    "# y_test =  dataset[training_data_len : , : ]\n",
    "#Get all of the rows from index 1603 to the rest and all of the columns (in this case it's only column 'Close'), so 2003 - 1603 = 400 rows of data\n",
    "for i in range(60,len(loaded_test_data)):\n",
    "    x_test.append(loaded_test_data[i-60:i,0])\n",
    "#Convert x_test to a numpy array \n",
    "x_test = np.array(x_test)\n",
    "#Reshape the data into the shape accepted by the LSTM\n",
    "x_test = np.reshape(x_test, (x_test.shape[0],x_test.shape[1],1))\n",
    "#Getting the models predicted price values\n",
    "pred_price = model.predict(x_test) \n",
    "pred_price = scaler.inverse_transform(pred_price)#Undo scaling"
   ]
  },
  {
   "cell_type": "code",
   "execution_count": 108,
   "metadata": {},
   "outputs": [
    {
     "data": {
      "text/plain": [
       "array([[2.2139692],\n",
       "       [2.2093165],\n",
       "       [2.1891477],\n",
       "       [2.132629 ]], dtype=float32)"
      ]
     },
     "execution_count": 108,
     "metadata": {},
     "output_type": "execute_result"
    }
   ],
   "source": [
    "pred_price"
   ]
  },
  {
   "cell_type": "code",
   "execution_count": 96,
   "metadata": {},
   "outputs": [
    {
     "data": {
      "text/plain": [
       "(64, 1)"
      ]
     },
     "execution_count": 96,
     "metadata": {},
     "output_type": "execute_result"
    }
   ],
   "source": [
    "loaded_test_data.shape"
   ]
  },
  {
   "cell_type": "code",
   "execution_count": 115,
   "metadata": {},
   "outputs": [
    {
     "data": {
      "text/plain": [
       "'[[2.2139692306518555], [2.2093164920806885], [2.189147710800171], [2.132628917694092]]'"
      ]
     },
     "execution_count": 115,
     "metadata": {},
     "output_type": "execute_result"
    }
   ],
   "source": [
    "# convert numpy array to json\n",
    "import json\n",
    "lists = pred_price.tolist()\n",
    "json_str = json.dumps(lists)\n",
    "json_str\n",
    "# lists"
   ]
  },
  {
   "cell_type": "code",
   "execution_count": 183,
   "metadata": {},
   "outputs": [
    {
     "data": {
      "text/plain": [
       "'{\"0\": \"2.2139692\", \"1\": \"2.2093165\", \"2\": \"2.1891477\", \"3\": \"2.132629\"}'"
      ]
     },
     "execution_count": 183,
     "metadata": {},
     "output_type": "execute_result"
    }
   ],
   "source": [
    "len(pred_price)\n",
    "pred_price[0,0]\n",
    "pred = {}\n",
    "for i in range(0,len(pred_price)):\n",
    "    pred[str(i)] =str(pred_price[i,0])\n",
    "pred\n",
    "json.dumps(pred)\n",
    "# print(json.dumps([\"apple\", \"bananas\"]))\n",
    "# tuplex = ()\n",
    "# pred = list(tuplex) \n",
    "# for i in range(0,len(pred_price)):\n",
    "#     pred.append(pred_price[i,0])\n",
    "# json.dumps(str(pred))"
   ]
  },
  {
   "cell_type": "code",
   "execution_count": 98,
   "metadata": {},
   "outputs": [
    {
     "name": "stdout",
     "output_type": "stream",
     "text": [
      "5\n",
      "6\n",
      "7\n",
      "8\n",
      "9\n"
     ]
    }
   ],
   "source": [
    "for i in range(5, 10):\n",
    "    print(i)"
   ]
  },
  {
   "cell_type": "markdown",
   "metadata": {},
   "source": [
    "# Months"
   ]
  },
  {
   "cell_type": "code",
   "execution_count": 35,
   "metadata": {},
   "outputs": [
    {
     "data": {
      "text/html": [
       "<div>\n",
       "<style scoped>\n",
       "    .dataframe tbody tr th:only-of-type {\n",
       "        vertical-align: middle;\n",
       "    }\n",
       "\n",
       "    .dataframe tbody tr th {\n",
       "        vertical-align: top;\n",
       "    }\n",
       "\n",
       "    .dataframe thead th {\n",
       "        text-align: right;\n",
       "    }\n",
       "</style>\n",
       "<table border=\"1\" class=\"dataframe\">\n",
       "  <thead>\n",
       "    <tr style=\"text-align: right;\">\n",
       "      <th></th>\n",
       "      <th>Encounter_DateTime</th>\n",
       "    </tr>\n",
       "  </thead>\n",
       "  <tbody>\n",
       "    <tr>\n",
       "      <th>0</th>\n",
       "      <td>2005-06-30</td>\n",
       "    </tr>\n",
       "    <tr>\n",
       "      <th>1</th>\n",
       "      <td>2005-07-01</td>\n",
       "    </tr>\n",
       "    <tr>\n",
       "      <th>2</th>\n",
       "      <td>2005-07-05</td>\n",
       "    </tr>\n",
       "    <tr>\n",
       "      <th>3</th>\n",
       "      <td>2005-10-07</td>\n",
       "    </tr>\n",
       "    <tr>\n",
       "      <th>4</th>\n",
       "      <td>2005-10-12</td>\n",
       "    </tr>\n",
       "    <tr>\n",
       "      <th>5</th>\n",
       "      <td>2005-03-12</td>\n",
       "    </tr>\n",
       "    <tr>\n",
       "      <th>6</th>\n",
       "      <td>2005-04-19</td>\n",
       "    </tr>\n",
       "    <tr>\n",
       "      <th>7</th>\n",
       "      <td>2005-04-22</td>\n",
       "    </tr>\n",
       "    <tr>\n",
       "      <th>8</th>\n",
       "      <td>2005-04-26</td>\n",
       "    </tr>\n",
       "    <tr>\n",
       "      <th>9</th>\n",
       "      <td>2005-10-20</td>\n",
       "    </tr>\n",
       "  </tbody>\n",
       "</table>\n",
       "</div>"
      ],
      "text/plain": [
       "  Encounter_DateTime\n",
       "0         2005-06-30\n",
       "1         2005-07-01\n",
       "2         2005-07-05\n",
       "3         2005-10-07\n",
       "4         2005-10-12\n",
       "5         2005-03-12\n",
       "6         2005-04-19\n",
       "7         2005-04-22\n",
       "8         2005-04-26\n",
       "9         2005-10-20"
      ]
     },
     "execution_count": 35,
     "metadata": {},
     "output_type": "execute_result"
    }
   ],
   "source": [
    "# extract only the encounter date column\n",
    "monthly_series = df['Encounter_DateTime']\n",
    "monthly_series = pd.DataFrame(monthly_series)\n",
    "monthly_series.head(10)"
   ]
  },
  {
   "cell_type": "code",
   "execution_count": 36,
   "metadata": {},
   "outputs": [
    {
     "data": {
      "text/html": [
       "<div>\n",
       "<style scoped>\n",
       "    .dataframe tbody tr th:only-of-type {\n",
       "        vertical-align: middle;\n",
       "    }\n",
       "\n",
       "    .dataframe tbody tr th {\n",
       "        vertical-align: top;\n",
       "    }\n",
       "\n",
       "    .dataframe thead th {\n",
       "        text-align: right;\n",
       "    }\n",
       "</style>\n",
       "<table border=\"1\" class=\"dataframe\">\n",
       "  <thead>\n",
       "    <tr style=\"text-align: right;\">\n",
       "      <th></th>\n",
       "      <th>Encounter_DateTime</th>\n",
       "    </tr>\n",
       "  </thead>\n",
       "  <tbody>\n",
       "    <tr>\n",
       "      <th>0</th>\n",
       "      <td>2005-06</td>\n",
       "    </tr>\n",
       "    <tr>\n",
       "      <th>1</th>\n",
       "      <td>2005-07</td>\n",
       "    </tr>\n",
       "    <tr>\n",
       "      <th>2</th>\n",
       "      <td>2005-07</td>\n",
       "    </tr>\n",
       "    <tr>\n",
       "      <th>3</th>\n",
       "      <td>2005-10</td>\n",
       "    </tr>\n",
       "    <tr>\n",
       "      <th>4</th>\n",
       "      <td>2005-10</td>\n",
       "    </tr>\n",
       "    <tr>\n",
       "      <th>5</th>\n",
       "      <td>2005-03</td>\n",
       "    </tr>\n",
       "    <tr>\n",
       "      <th>6</th>\n",
       "      <td>2005-04</td>\n",
       "    </tr>\n",
       "    <tr>\n",
       "      <th>7</th>\n",
       "      <td>2005-04</td>\n",
       "    </tr>\n",
       "    <tr>\n",
       "      <th>8</th>\n",
       "      <td>2005-04</td>\n",
       "    </tr>\n",
       "    <tr>\n",
       "      <th>9</th>\n",
       "      <td>2005-10</td>\n",
       "    </tr>\n",
       "  </tbody>\n",
       "</table>\n",
       "</div>"
      ],
      "text/plain": [
       "  Encounter_DateTime\n",
       "0            2005-06\n",
       "1            2005-07\n",
       "2            2005-07\n",
       "3            2005-10\n",
       "4            2005-10\n",
       "5            2005-03\n",
       "6            2005-04\n",
       "7            2005-04\n",
       "8            2005-04\n",
       "9            2005-10"
      ]
     },
     "execution_count": 36,
     "metadata": {},
     "output_type": "execute_result"
    }
   ],
   "source": [
    "# trim date to only have year and month\n",
    "monthly_series['Encounter_DateTime'] = pd.to_datetime(monthly_series['Encounter_DateTime']).dt.to_period('m')\n",
    "monthly_series.head(10)"
   ]
  },
  {
   "cell_type": "code",
   "execution_count": 96,
   "metadata": {},
   "outputs": [
    {
     "data": {
      "text/html": [
       "<div>\n",
       "<style scoped>\n",
       "    .dataframe tbody tr th:only-of-type {\n",
       "        vertical-align: middle;\n",
       "    }\n",
       "\n",
       "    .dataframe tbody tr th {\n",
       "        vertical-align: top;\n",
       "    }\n",
       "\n",
       "    .dataframe thead th {\n",
       "        text-align: right;\n",
       "    }\n",
       "</style>\n",
       "<table border=\"1\" class=\"dataframe\">\n",
       "  <thead>\n",
       "    <tr style=\"text-align: right;\">\n",
       "      <th></th>\n",
       "      <th>Date</th>\n",
       "      <th>Patient</th>\n",
       "    </tr>\n",
       "  </thead>\n",
       "  <tbody>\n",
       "    <tr>\n",
       "      <th>0</th>\n",
       "      <td>2005-01</td>\n",
       "      <td>37</td>\n",
       "    </tr>\n",
       "    <tr>\n",
       "      <th>1</th>\n",
       "      <td>2005-02</td>\n",
       "      <td>32</td>\n",
       "    </tr>\n",
       "    <tr>\n",
       "      <th>2</th>\n",
       "      <td>2005-03</td>\n",
       "      <td>25</td>\n",
       "    </tr>\n",
       "    <tr>\n",
       "      <th>3</th>\n",
       "      <td>2005-04</td>\n",
       "      <td>79</td>\n",
       "    </tr>\n",
       "    <tr>\n",
       "      <th>4</th>\n",
       "      <td>2005-05</td>\n",
       "      <td>69</td>\n",
       "    </tr>\n",
       "    <tr>\n",
       "      <th>5</th>\n",
       "      <td>2005-06</td>\n",
       "      <td>51</td>\n",
       "    </tr>\n",
       "    <tr>\n",
       "      <th>6</th>\n",
       "      <td>2005-07</td>\n",
       "      <td>74</td>\n",
       "    </tr>\n",
       "    <tr>\n",
       "      <th>7</th>\n",
       "      <td>2005-08</td>\n",
       "      <td>56</td>\n",
       "    </tr>\n",
       "    <tr>\n",
       "      <th>8</th>\n",
       "      <td>2005-09</td>\n",
       "      <td>67</td>\n",
       "    </tr>\n",
       "    <tr>\n",
       "      <th>9</th>\n",
       "      <td>2005-10</td>\n",
       "      <td>61</td>\n",
       "    </tr>\n",
       "  </tbody>\n",
       "</table>\n",
       "</div>"
      ],
      "text/plain": [
       "     Date  Patient\n",
       "0 2005-01       37\n",
       "1 2005-02       32\n",
       "2 2005-03       25\n",
       "3 2005-04       79\n",
       "4 2005-05       69\n",
       "5 2005-06       51\n",
       "6 2005-07       74\n",
       "7 2005-08       56\n",
       "8 2005-09       67\n",
       "9 2005-10       61"
      ]
     },
     "execution_count": 96,
     "metadata": {},
     "output_type": "execute_result"
    }
   ],
   "source": [
    "# get counts of every date\n",
    "monthly_series_summary = monthly_series.groupby('Encounter_DateTime').size().reset_index().rename(columns={0: 'Patient'})\n",
    "monthly_series_summary.columns = ['Date', 'Patient']\n",
    "monthly_series_summary.head(10)"
   ]
  },
  {
   "cell_type": "code",
   "execution_count": 98,
   "metadata": {},
   "outputs": [
    {
     "data": {
      "image/png": "[encoded data removed]",
      "text/plain": [
       "<Figure size 1152x576 with 1 Axes>"
      ]
     },
     "metadata": {
      "needs_background": "light"
     },
     "output_type": "display_data"
    }
   ],
   "source": [
    "#plot\n",
    "pyplot.figure(figsize=(16,8))\n",
    "pyplot.title('Total Patient history')\n",
    "pyplot.plot(monthly_series_summary['Patient'])\n",
    "\n",
    "# ax = fig.add_subplot(111)\n",
    "# ax.xaxis.set_major_formatter(mdates.DateFormatter('%Y-%m'))\n",
    "pyplot.xlabel('Date',fontsize=18)\n",
    "pyplot.ylabel('Number Of Patients',fontsize=18)\n",
    "pyplot.show()\n",
    "# pyplot.plot(monthly_series_summary['Patient'], label='Total Patient history')"
   ]
  },
  {
   "cell_type": "code",
   "execution_count": 99,
   "metadata": {},
   "outputs": [
    {
     "data": {
      "text/html": [
       "<div>\n",
       "<style scoped>\n",
       "    .dataframe tbody tr th:only-of-type {\n",
       "        vertical-align: middle;\n",
       "    }\n",
       "\n",
       "    .dataframe tbody tr th {\n",
       "        vertical-align: top;\n",
       "    }\n",
       "\n",
       "    .dataframe thead th {\n",
       "        text-align: right;\n",
       "    }\n",
       "</style>\n",
       "<table border=\"1\" class=\"dataframe\">\n",
       "  <thead>\n",
       "    <tr style=\"text-align: right;\">\n",
       "      <th></th>\n",
       "      <th>Date</th>\n",
       "      <th>Patient</th>\n",
       "    </tr>\n",
       "    <tr>\n",
       "      <th>Date</th>\n",
       "      <th></th>\n",
       "      <th></th>\n",
       "    </tr>\n",
       "  </thead>\n",
       "  <tbody>\n",
       "    <tr>\n",
       "      <th>2005-01</th>\n",
       "      <td>2005-01</td>\n",
       "      <td>37</td>\n",
       "    </tr>\n",
       "    <tr>\n",
       "      <th>2005-02</th>\n",
       "      <td>2005-02</td>\n",
       "      <td>32</td>\n",
       "    </tr>\n",
       "    <tr>\n",
       "      <th>2005-03</th>\n",
       "      <td>2005-03</td>\n",
       "      <td>25</td>\n",
       "    </tr>\n",
       "    <tr>\n",
       "      <th>2005-04</th>\n",
       "      <td>2005-04</td>\n",
       "      <td>79</td>\n",
       "    </tr>\n",
       "    <tr>\n",
       "      <th>2005-05</th>\n",
       "      <td>2005-05</td>\n",
       "      <td>69</td>\n",
       "    </tr>\n",
       "    <tr>\n",
       "      <th>2005-06</th>\n",
       "      <td>2005-06</td>\n",
       "      <td>51</td>\n",
       "    </tr>\n",
       "    <tr>\n",
       "      <th>2005-07</th>\n",
       "      <td>2005-07</td>\n",
       "      <td>74</td>\n",
       "    </tr>\n",
       "    <tr>\n",
       "      <th>2005-08</th>\n",
       "      <td>2005-08</td>\n",
       "      <td>56</td>\n",
       "    </tr>\n",
       "    <tr>\n",
       "      <th>2005-09</th>\n",
       "      <td>2005-09</td>\n",
       "      <td>67</td>\n",
       "    </tr>\n",
       "    <tr>\n",
       "      <th>2005-10</th>\n",
       "      <td>2005-10</td>\n",
       "      <td>61</td>\n",
       "    </tr>\n",
       "  </tbody>\n",
       "</table>\n",
       "</div>"
      ],
      "text/plain": [
       "           Date  Patient\n",
       "Date                    \n",
       "2005-01 2005-01       37\n",
       "2005-02 2005-02       32\n",
       "2005-03 2005-03       25\n",
       "2005-04 2005-04       79\n",
       "2005-05 2005-05       69\n",
       "2005-06 2005-06       51\n",
       "2005-07 2005-07       74\n",
       "2005-08 2005-08       56\n",
       "2005-09 2005-09       67\n",
       "2005-10 2005-10       61"
      ]
     },
     "execution_count": 99,
     "metadata": {},
     "output_type": "execute_result"
    }
   ],
   "source": [
    "#setting index as date\n",
    "monthly_series_summary.index = monthly_series_summary['Date']\n",
    "# series_summary.drop('Date', axis=1, inplace=True)\n",
    "monthly_series_summary.head(10)"
   ]
  },
  {
   "cell_type": "code",
   "execution_count": 103,
   "metadata": {},
   "outputs": [],
   "source": [
    "#importing required libraries\n",
    "from sklearn.preprocessing import MinMaxScaler\n",
    "import tensorflow as tf\n",
    "from tensorflow.keras.models import Sequential\n",
    "from tensorflow.keras.layers import Dense, Dropout, LSTM"
   ]
  },
  {
   "cell_type": "code",
   "execution_count": 112,
   "metadata": {},
   "outputs": [
    {
     "data": {
      "text/html": [
       "<div>\n",
       "<style scoped>\n",
       "    .dataframe tbody tr th:only-of-type {\n",
       "        vertical-align: middle;\n",
       "    }\n",
       "\n",
       "    .dataframe tbody tr th {\n",
       "        vertical-align: top;\n",
       "    }\n",
       "\n",
       "    .dataframe thead th {\n",
       "        text-align: right;\n",
       "    }\n",
       "</style>\n",
       "<table border=\"1\" class=\"dataframe\">\n",
       "  <thead>\n",
       "    <tr style=\"text-align: right;\">\n",
       "      <th></th>\n",
       "      <th>Date</th>\n",
       "      <th>Patient</th>\n",
       "    </tr>\n",
       "  </thead>\n",
       "  <tbody>\n",
       "    <tr>\n",
       "      <th>0</th>\n",
       "      <td>2005-01</td>\n",
       "      <td>37</td>\n",
       "    </tr>\n",
       "    <tr>\n",
       "      <th>1</th>\n",
       "      <td>2005-02</td>\n",
       "      <td>32</td>\n",
       "    </tr>\n",
       "    <tr>\n",
       "      <th>2</th>\n",
       "      <td>2005-03</td>\n",
       "      <td>25</td>\n",
       "    </tr>\n",
       "    <tr>\n",
       "      <th>3</th>\n",
       "      <td>2005-04</td>\n",
       "      <td>79</td>\n",
       "    </tr>\n",
       "    <tr>\n",
       "      <th>4</th>\n",
       "      <td>2005-05</td>\n",
       "      <td>69</td>\n",
       "    </tr>\n",
       "    <tr>\n",
       "      <th>5</th>\n",
       "      <td>2005-06</td>\n",
       "      <td>51</td>\n",
       "    </tr>\n",
       "    <tr>\n",
       "      <th>6</th>\n",
       "      <td>2005-07</td>\n",
       "      <td>74</td>\n",
       "    </tr>\n",
       "    <tr>\n",
       "      <th>7</th>\n",
       "      <td>2005-08</td>\n",
       "      <td>56</td>\n",
       "    </tr>\n",
       "    <tr>\n",
       "      <th>8</th>\n",
       "      <td>2005-09</td>\n",
       "      <td>67</td>\n",
       "    </tr>\n",
       "    <tr>\n",
       "      <th>9</th>\n",
       "      <td>2005-10</td>\n",
       "      <td>61</td>\n",
       "    </tr>\n",
       "  </tbody>\n",
       "</table>\n",
       "</div>"
      ],
      "text/plain": [
       "     Date Patient\n",
       "0 2005-01      37\n",
       "1 2005-02      32\n",
       "2 2005-03      25\n",
       "3 2005-04      79\n",
       "4 2005-05      69\n",
       "5 2005-06      51\n",
       "6 2005-07      74\n",
       "7 2005-08      56\n",
       "8 2005-09      67\n",
       "9 2005-10      61"
      ]
     },
     "execution_count": 112,
     "metadata": {},
     "output_type": "execute_result"
    }
   ],
   "source": [
    "#creating dataframe\n",
    "monthly_data = monthly_series_summary.sort_index(ascending=True, axis=0)\n",
    "monthly_new_data = pd.DataFrame(index=range(0,len(monthly_series_summary)),columns=['Date', 'Patient'])\n",
    "for i in range(0,len(monthly_data)):\n",
    "    monthly_new_data['Date'][i] = monthly_data['Date'][i]\n",
    "    monthly_new_data['Patient'][i] = monthly_data['Patient'][i]\n",
    "monthly_new_data.head(10)"
   ]
  },
  {
   "cell_type": "code",
   "execution_count": 113,
   "metadata": {},
   "outputs": [],
   "source": [
    "#setting index\n",
    "monthly_new_data.index = monthly_new_data.Date\n",
    "monthly_new_data.drop('Date', axis=1, inplace=True)\n",
    "# monthly_new_data\n",
    "monthly_new_data.to_csv(r'..\\Datasets\\Encounter\\Cleaned\\monthlyEncounter.csv')"
   ]
  },
  {
   "cell_type": "code",
   "execution_count": 176,
   "metadata": {},
   "outputs": [
    {
     "name": "stderr",
     "output_type": "stream",
     "text": [
      "C:\\ProgramData\\Anaconda3\\lib\\site-packages\\sklearn\\utils\\validation.py:475: DataConversionWarning: Data with input dtype object was converted to float64 by MinMaxScaler.\n",
      "  warnings.warn(msg, DataConversionWarning)\n"
     ]
    },
    {
     "data": {
      "text/plain": [
       "120"
      ]
     },
     "execution_count": 176,
     "metadata": {},
     "output_type": "execute_result"
    }
   ],
   "source": [
    "#Converting the dataframe to a numpy array\n",
    "monthly_dataset = monthly_new_data.values\n",
    "# #Get /Compute the number of rows to train the model on\n",
    "# monthly_training_data_len = math.ceil( len(monthly_dataset) *.8)\n",
    "# training the whole dataset\n",
    "monthly_training_data_len = len(monthly_dataset)\n",
    "#Scale the all of the data to be values between 0 and 1\n",
    "scaler = MinMaxScaler(feature_range=(0, 1))\n",
    "monthly_scaled_data = scaler.fit_transform(monthly_dataset)\n",
    "#Create the scaled training data set \n",
    "monthly_train = monthly_scaled_data[0:monthly_training_data_len  , : ]\n",
    "monthly_training_data_len"
   ]
  },
  {
   "cell_type": "code",
   "execution_count": 177,
   "metadata": {},
   "outputs": [],
   "source": [
    "#converting dataset into x_train and y_train\n",
    "# x_train, y_train = train[:, :-1], train[:,-1]\n",
    "x_train, y_train = [], []\n",
    "for i in range(60,len(monthly_train)):\n",
    "    x_train.append(monthly_train[i-60:i,0])\n",
    "    y_train.append(monthly_train[i,0])\n",
    "\n",
    "#Convert x_train and y_train to numpy arrays\n",
    "x_train, y_train = np.array(x_train), np.array(y_train)\n",
    "#Reshape the data into the shape accepted by the LSTM\n",
    "x_train = np.reshape(x_train, (x_train.shape[0],x_train.shape[1],1))"
   ]
  },
  {
   "cell_type": "code",
   "execution_count": 178,
   "metadata": {},
   "outputs": [
    {
     "name": "stdout",
     "output_type": "stream",
     "text": [
      "Train on 60 samples\n",
      "Epoch 1/20\n",
      "60/60 - 5s - loss: 0.1660\n",
      "Epoch 2/20\n",
      "60/60 - 0s - loss: 0.1306\n",
      "Epoch 3/20\n",
      "60/60 - 0s - loss: 0.0972\n",
      "Epoch 4/20\n",
      "60/60 - 0s - loss: 0.0730\n",
      "Epoch 5/20\n",
      "60/60 - 0s - loss: 0.0493\n",
      "Epoch 6/20\n",
      "60/60 - 0s - loss: 0.0383\n",
      "Epoch 7/20\n",
      "60/60 - 0s - loss: 0.0359\n",
      "Epoch 8/20\n",
      "60/60 - 0s - loss: 0.0518\n",
      "Epoch 9/20\n",
      "60/60 - 0s - loss: 0.0541\n",
      "Epoch 10/20\n",
      "60/60 - 0s - loss: 0.0471\n",
      "Epoch 11/20\n",
      "60/60 - 0s - loss: 0.0414\n",
      "Epoch 12/20\n",
      "60/60 - 0s - loss: 0.0402\n",
      "Epoch 13/20\n",
      "60/60 - 0s - loss: 0.0333\n",
      "Epoch 14/20\n",
      "60/60 - 0s - loss: 0.0343\n",
      "Epoch 15/20\n",
      "60/60 - 0s - loss: 0.0368\n",
      "Epoch 16/20\n",
      "60/60 - 0s - loss: 0.0400\n",
      "Epoch 17/20\n",
      "60/60 - 0s - loss: 0.0392\n",
      "Epoch 18/20\n",
      "60/60 - 0s - loss: 0.0398\n",
      "Epoch 19/20\n",
      "60/60 - 0s - loss: 0.0397\n",
      "Epoch 20/20\n",
      "60/60 - 0s - loss: 0.0392\n"
     ]
    },
    {
     "data": {
      "text/plain": [
       "<tensorflow.python.keras.callbacks.History at 0x28cc9d7cef0>"
      ]
     },
     "execution_count": 178,
     "metadata": {},
     "output_type": "execute_result"
    }
   ],
   "source": [
    "# create and fit the LSTM network\n",
    "monthly_model = Sequential()\n",
    "\n",
    "#Adding the first LSTM layer and some Dropout regularisation\n",
    "monthly_model.add(LSTM(units=50, return_sequences=True, input_shape=(x_train.shape[1],1)))\n",
    "monthly_model.add(Dropout(0.1))\n",
    "\n",
    "# Adding a second LSTM layer and some Dropout regularisation\n",
    "monthly_model.add(LSTM(units = 50))\n",
    "monthly_model.add(Dropout(0.1))\n",
    "\n",
    "# Adding the output layer\n",
    "# model.add(Dense(units=25))\n",
    "monthly_model.add(Dense(units=1))\n",
    "# model.add(Dense(1))\n",
    "\n",
    "#Compile the model\n",
    "monthly_model.compile(optimizer='adam', loss='mean_squared_error')\n",
    "#Train the model\n",
    "# model.fit(x_train, y_train, epochs=100, batch_size=100, verbose=2)\n",
    "monthly_model.fit(x_train, y_train, epochs=20, batch_size=100, verbose=2)"
   ]
  },
  {
   "cell_type": "code",
   "execution_count": 179,
   "metadata": {},
   "outputs": [],
   "source": [
    "# #Test data set\n",
    "# monthly_test_data = monthly_scaled_data[monthly_training_data_len - 60: , : ]\n",
    "#Test data set on tomorrow \n",
    "monthly_test_data = monthly_scaled_data[monthly_training_data_len-4 - 60: , : ]\n",
    "#Create the x_test and y_test data sets\n",
    "x_test = []\n",
    "y_test =  monthly_dataset[monthly_training_data_len : , : ]\n",
    "#Get all of the rows from index 1603 to the rest and all of the columns (in this case it's only column 'Close'), so 2003 - 1603 = 400 rows of data\n",
    "for i in range(60,len(monthly_test_data)):\n",
    "    x_test.append(monthly_test_data[i-60:i,0])\n",
    "#Convert x_test to a numpy array \n",
    "x_test = np.array(x_test)\n",
    "#Reshape the data into the shape accepted by the LSTM\n",
    "x_test = np.reshape(x_test, (x_test.shape[0],x_test.shape[1],1))\n",
    "#Getting the models predicted price values\n",
    "predictions = monthly_model.predict(x_test)\n",
    "#Undo scaling\n",
    "predictions = scaler.inverse_transform(predictions)"
   ]
  },
  {
   "cell_type": "code",
   "execution_count": 180,
   "metadata": {},
   "outputs": [
    {
     "data": {
      "text/plain": [
       "(64, 1)"
      ]
     },
     "execution_count": 180,
     "metadata": {},
     "output_type": "execute_result"
    }
   ],
   "source": [
    "monthly_test_data.shape"
   ]
  },
  {
   "cell_type": "code",
   "execution_count": 181,
   "metadata": {},
   "outputs": [
    {
     "data": {
      "text/plain": [
       "array([[42.46774 ],\n",
       "       [42.691586],\n",
       "       [42.826878],\n",
       "       [42.673153]], dtype=float32)"
      ]
     },
     "execution_count": 181,
     "metadata": {},
     "output_type": "execute_result"
    }
   ],
   "source": [
    "predictions"
   ]
  },
  {
   "cell_type": "code",
   "execution_count": 182,
   "metadata": {},
   "outputs": [
    {
     "data": {
      "text/plain": [
       "(4, 60, 1)"
      ]
     },
     "execution_count": 182,
     "metadata": {},
     "output_type": "execute_result"
    }
   ],
   "source": [
    "x_test.shape"
   ]
  },
  {
   "cell_type": "markdown",
   "metadata": {},
   "source": [
    "# Results"
   ]
  },
  {
   "cell_type": "code",
   "execution_count": 141,
   "metadata": {},
   "outputs": [
    {
     "data": {
      "text/plain": [
       "12.82252738569824"
      ]
     },
     "execution_count": 141,
     "metadata": {},
     "output_type": "execute_result"
    }
   ],
   "source": [
    "#Calculate/Get the value of RMSE\n",
    "rmse=np.sqrt(np.mean(((predictions- y_test)**2)))\n",
    "rmse\n",
    "#OR\n",
    "# rms=np.sqrt(np.mean(np.power((valid-patients_no),2)))\n",
    "# rms"
   ]
  },
  {
   "cell_type": "code",
   "execution_count": 161,
   "metadata": {},
   "outputs": [
    {
     "name": "stderr",
     "output_type": "stream",
     "text": [
      "C:\\ProgramData\\Anaconda3\\lib\\site-packages\\ipykernel_launcher.py:4: SettingWithCopyWarning: \n",
      "A value is trying to be set on a copy of a slice from a DataFrame.\n",
      "Try using .loc[row_indexer,col_indexer] = value instead\n",
      "\n",
      "See the caveats in the documentation: http://pandas.pydata.org/pandas-docs/stable/indexing.html#indexing-view-versus-copy\n",
      "  after removing the cwd from sys.path.\n"
     ]
    },
    {
     "data": {
      "image/png": "[encoded data removed]",
      "text/plain": [
       "<Figure size 1152x576 with 1 Axes>"
      ]
     },
     "metadata": {
      "needs_background": "light"
     },
     "output_type": "display_data"
    }
   ],
   "source": [
    "#Plot/Create the data for the graph\n",
    "train = monthly_new_data[:monthly_training_data_len]\n",
    "valid = monthly_new_data[monthly_training_data_len:]\n",
    "valid['Predictions'] = predictions\n",
    "train = train.reset_index()\n",
    "valid = valid.reset_index()\n",
    "valid.index += monthly_training_data_len \n",
    "#Visualize the data\n",
    "pyplot.figure(figsize=(16,8))\n",
    "pyplot.title('Model')\n",
    "pyplot.xlabel('Date', fontsize=18)\n",
    "pyplot.ylabel('Number Of Patients', fontsize=18)\n",
    "pyplot.plot(train['Patient'])\n",
    "pyplot.plot(valid[['Patient', 'Predictions']])\n",
    "pyplot.legend(['Train', 'Val', 'Predictions'], loc='upper right')\n",
    "pyplot.show()"
   ]
  },
  {
   "cell_type": "code",
   "execution_count": 165,
   "metadata": {},
   "outputs": [
    {
     "data": {
      "text/html": [
       "<div>\n",
       "<style scoped>\n",
       "    .dataframe tbody tr th:only-of-type {\n",
       "        vertical-align: middle;\n",
       "    }\n",
       "\n",
       "    .dataframe tbody tr th {\n",
       "        vertical-align: top;\n",
       "    }\n",
       "\n",
       "    .dataframe thead th {\n",
       "        text-align: right;\n",
       "    }\n",
       "</style>\n",
       "<table border=\"1\" class=\"dataframe\">\n",
       "  <thead>\n",
       "    <tr style=\"text-align: right;\">\n",
       "      <th></th>\n",
       "      <th>Date</th>\n",
       "      <th>Patient</th>\n",
       "      <th>Predictions</th>\n",
       "    </tr>\n",
       "  </thead>\n",
       "  <tbody>\n",
       "    <tr>\n",
       "      <th>96</th>\n",
       "      <td>2013-01</td>\n",
       "      <td>62</td>\n",
       "      <td>40.506996</td>\n",
       "    </tr>\n",
       "    <tr>\n",
       "      <th>97</th>\n",
       "      <td>2013-02</td>\n",
       "      <td>25</td>\n",
       "      <td>40.608597</td>\n",
       "    </tr>\n",
       "    <tr>\n",
       "      <th>98</th>\n",
       "      <td>2013-03</td>\n",
       "      <td>41</td>\n",
       "      <td>40.443253</td>\n",
       "    </tr>\n",
       "    <tr>\n",
       "      <th>99</th>\n",
       "      <td>2013-04</td>\n",
       "      <td>43</td>\n",
       "      <td>40.302380</td>\n",
       "    </tr>\n",
       "    <tr>\n",
       "      <th>100</th>\n",
       "      <td>2013-05</td>\n",
       "      <td>50</td>\n",
       "      <td>40.201702</td>\n",
       "    </tr>\n",
       "    <tr>\n",
       "      <th>101</th>\n",
       "      <td>2013-06</td>\n",
       "      <td>60</td>\n",
       "      <td>40.224396</td>\n",
       "    </tr>\n",
       "    <tr>\n",
       "      <th>102</th>\n",
       "      <td>2013-07</td>\n",
       "      <td>25</td>\n",
       "      <td>40.469330</td>\n",
       "    </tr>\n",
       "    <tr>\n",
       "      <th>103</th>\n",
       "      <td>2013-08</td>\n",
       "      <td>34</td>\n",
       "      <td>40.418003</td>\n",
       "    </tr>\n",
       "    <tr>\n",
       "      <th>104</th>\n",
       "      <td>2013-09</td>\n",
       "      <td>64</td>\n",
       "      <td>40.274075</td>\n",
       "    </tr>\n",
       "    <tr>\n",
       "      <th>105</th>\n",
       "      <td>2013-10</td>\n",
       "      <td>58</td>\n",
       "      <td>40.445427</td>\n",
       "    </tr>\n",
       "  </tbody>\n",
       "</table>\n",
       "</div>"
      ],
      "text/plain": [
       "       Date Patient  Predictions\n",
       "96  2013-01      62    40.506996\n",
       "97  2013-02      25    40.608597\n",
       "98  2013-03      41    40.443253\n",
       "99  2013-04      43    40.302380\n",
       "100 2013-05      50    40.201702\n",
       "101 2013-06      60    40.224396\n",
       "102 2013-07      25    40.469330\n",
       "103 2013-08      34    40.418003\n",
       "104 2013-09      64    40.274075\n",
       "105 2013-10      58    40.445427"
      ]
     },
     "execution_count": 165,
     "metadata": {},
     "output_type": "execute_result"
    }
   ],
   "source": [
    "valid.head(10)"
   ]
  },
  {
   "cell_type": "code",
   "execution_count": 183,
   "metadata": {},
   "outputs": [],
   "source": [
    "monthly_model.save('monthly_encounter_model_LSTM.h5')"
   ]
  },
  {
   "cell_type": "code",
   "execution_count": 184,
   "metadata": {},
   "outputs": [],
   "source": [
    "monthly_loaded_model = tf.keras.models.load_model('monthly_encounter_model_LSTM.h5')"
   ]
  },
  {
   "cell_type": "code",
   "execution_count": 185,
   "metadata": {},
   "outputs": [
    {
     "data": {
      "text/plain": [
       "<tensorflow.python.keras.engine.sequential.Sequential at 0x28ccaf14978>"
      ]
     },
     "execution_count": 185,
     "metadata": {},
     "output_type": "execute_result"
    }
   ],
   "source": [
    "monthly_loaded_model"
   ]
  },
  {
   "cell_type": "code",
   "execution_count": 194,
   "metadata": {},
   "outputs": [
    {
     "name": "stderr",
     "output_type": "stream",
     "text": [
      "C:\\ProgramData\\Anaconda3\\lib\\site-packages\\sklearn\\utils\\validation.py:475: DataConversionWarning: Data with input dtype int64 was converted to float64 by MinMaxScaler.\n",
      "  warnings.warn(msg, DataConversionWarning)\n"
     ]
    },
    {
     "data": {
      "text/html": [
       "<div>\n",
       "<style scoped>\n",
       "    .dataframe tbody tr th:only-of-type {\n",
       "        vertical-align: middle;\n",
       "    }\n",
       "\n",
       "    .dataframe tbody tr th {\n",
       "        vertical-align: top;\n",
       "    }\n",
       "\n",
       "    .dataframe thead th {\n",
       "        text-align: right;\n",
       "    }\n",
       "</style>\n",
       "<table border=\"1\" class=\"dataframe\">\n",
       "  <thead>\n",
       "    <tr style=\"text-align: right;\">\n",
       "      <th></th>\n",
       "      <th>Patient</th>\n",
       "    </tr>\n",
       "    <tr>\n",
       "      <th>Date</th>\n",
       "      <th></th>\n",
       "    </tr>\n",
       "  </thead>\n",
       "  <tbody>\n",
       "    <tr>\n",
       "      <th>2005-01-01</th>\n",
       "      <td>37</td>\n",
       "    </tr>\n",
       "    <tr>\n",
       "      <th>2005-02-01</th>\n",
       "      <td>32</td>\n",
       "    </tr>\n",
       "    <tr>\n",
       "      <th>2005-03-01</th>\n",
       "      <td>25</td>\n",
       "    </tr>\n",
       "    <tr>\n",
       "      <th>2005-04-01</th>\n",
       "      <td>79</td>\n",
       "    </tr>\n",
       "    <tr>\n",
       "      <th>2005-05-01</th>\n",
       "      <td>69</td>\n",
       "    </tr>\n",
       "    <tr>\n",
       "      <th>2005-06-01</th>\n",
       "      <td>51</td>\n",
       "    </tr>\n",
       "    <tr>\n",
       "      <th>2005-07-01</th>\n",
       "      <td>74</td>\n",
       "    </tr>\n",
       "    <tr>\n",
       "      <th>2005-08-01</th>\n",
       "      <td>56</td>\n",
       "    </tr>\n",
       "    <tr>\n",
       "      <th>2005-09-01</th>\n",
       "      <td>67</td>\n",
       "    </tr>\n",
       "    <tr>\n",
       "      <th>2005-10-01</th>\n",
       "      <td>61</td>\n",
       "    </tr>\n",
       "    <tr>\n",
       "      <th>2005-11-01</th>\n",
       "      <td>58</td>\n",
       "    </tr>\n",
       "    <tr>\n",
       "      <th>2005-12-01</th>\n",
       "      <td>60</td>\n",
       "    </tr>\n",
       "    <tr>\n",
       "      <th>2006-01-01</th>\n",
       "      <td>41</td>\n",
       "    </tr>\n",
       "    <tr>\n",
       "      <th>2006-02-01</th>\n",
       "      <td>47</td>\n",
       "    </tr>\n",
       "    <tr>\n",
       "      <th>2006-03-01</th>\n",
       "      <td>59</td>\n",
       "    </tr>\n",
       "    <tr>\n",
       "      <th>2006-04-01</th>\n",
       "      <td>44</td>\n",
       "    </tr>\n",
       "    <tr>\n",
       "      <th>2006-05-01</th>\n",
       "      <td>48</td>\n",
       "    </tr>\n",
       "    <tr>\n",
       "      <th>2006-06-01</th>\n",
       "      <td>41</td>\n",
       "    </tr>\n",
       "    <tr>\n",
       "      <th>2006-07-01</th>\n",
       "      <td>34</td>\n",
       "    </tr>\n",
       "    <tr>\n",
       "      <th>2006-08-01</th>\n",
       "      <td>33</td>\n",
       "    </tr>\n",
       "    <tr>\n",
       "      <th>2006-09-01</th>\n",
       "      <td>52</td>\n",
       "    </tr>\n",
       "    <tr>\n",
       "      <th>2006-10-01</th>\n",
       "      <td>53</td>\n",
       "    </tr>\n",
       "    <tr>\n",
       "      <th>2006-11-01</th>\n",
       "      <td>41</td>\n",
       "    </tr>\n",
       "    <tr>\n",
       "      <th>2006-12-01</th>\n",
       "      <td>44</td>\n",
       "    </tr>\n",
       "    <tr>\n",
       "      <th>2007-01-01</th>\n",
       "      <td>43</td>\n",
       "    </tr>\n",
       "    <tr>\n",
       "      <th>2007-02-01</th>\n",
       "      <td>54</td>\n",
       "    </tr>\n",
       "    <tr>\n",
       "      <th>2007-03-01</th>\n",
       "      <td>58</td>\n",
       "    </tr>\n",
       "    <tr>\n",
       "      <th>2007-04-01</th>\n",
       "      <td>36</td>\n",
       "    </tr>\n",
       "    <tr>\n",
       "      <th>2007-05-01</th>\n",
       "      <td>33</td>\n",
       "    </tr>\n",
       "    <tr>\n",
       "      <th>2007-06-01</th>\n",
       "      <td>41</td>\n",
       "    </tr>\n",
       "    <tr>\n",
       "      <th>...</th>\n",
       "      <td>...</td>\n",
       "    </tr>\n",
       "    <tr>\n",
       "      <th>2012-07-01</th>\n",
       "      <td>41</td>\n",
       "    </tr>\n",
       "    <tr>\n",
       "      <th>2012-08-01</th>\n",
       "      <td>34</td>\n",
       "    </tr>\n",
       "    <tr>\n",
       "      <th>2012-09-01</th>\n",
       "      <td>32</td>\n",
       "    </tr>\n",
       "    <tr>\n",
       "      <th>2012-10-01</th>\n",
       "      <td>50</td>\n",
       "    </tr>\n",
       "    <tr>\n",
       "      <th>2012-11-01</th>\n",
       "      <td>53</td>\n",
       "    </tr>\n",
       "    <tr>\n",
       "      <th>2012-12-01</th>\n",
       "      <td>30</td>\n",
       "    </tr>\n",
       "    <tr>\n",
       "      <th>2013-01-01</th>\n",
       "      <td>62</td>\n",
       "    </tr>\n",
       "    <tr>\n",
       "      <th>2013-02-01</th>\n",
       "      <td>25</td>\n",
       "    </tr>\n",
       "    <tr>\n",
       "      <th>2013-03-01</th>\n",
       "      <td>41</td>\n",
       "    </tr>\n",
       "    <tr>\n",
       "      <th>2013-04-01</th>\n",
       "      <td>43</td>\n",
       "    </tr>\n",
       "    <tr>\n",
       "      <th>2013-05-01</th>\n",
       "      <td>50</td>\n",
       "    </tr>\n",
       "    <tr>\n",
       "      <th>2013-06-01</th>\n",
       "      <td>60</td>\n",
       "    </tr>\n",
       "    <tr>\n",
       "      <th>2013-07-01</th>\n",
       "      <td>25</td>\n",
       "    </tr>\n",
       "    <tr>\n",
       "      <th>2013-08-01</th>\n",
       "      <td>34</td>\n",
       "    </tr>\n",
       "    <tr>\n",
       "      <th>2013-09-01</th>\n",
       "      <td>64</td>\n",
       "    </tr>\n",
       "    <tr>\n",
       "      <th>2013-10-01</th>\n",
       "      <td>58</td>\n",
       "    </tr>\n",
       "    <tr>\n",
       "      <th>2013-11-01</th>\n",
       "      <td>29</td>\n",
       "    </tr>\n",
       "    <tr>\n",
       "      <th>2013-12-01</th>\n",
       "      <td>39</td>\n",
       "    </tr>\n",
       "    <tr>\n",
       "      <th>2014-01-01</th>\n",
       "      <td>51</td>\n",
       "    </tr>\n",
       "    <tr>\n",
       "      <th>2014-02-01</th>\n",
       "      <td>50</td>\n",
       "    </tr>\n",
       "    <tr>\n",
       "      <th>2014-03-01</th>\n",
       "      <td>65</td>\n",
       "    </tr>\n",
       "    <tr>\n",
       "      <th>2014-04-01</th>\n",
       "      <td>50</td>\n",
       "    </tr>\n",
       "    <tr>\n",
       "      <th>2014-05-01</th>\n",
       "      <td>31</td>\n",
       "    </tr>\n",
       "    <tr>\n",
       "      <th>2014-06-01</th>\n",
       "      <td>40</td>\n",
       "    </tr>\n",
       "    <tr>\n",
       "      <th>2014-07-01</th>\n",
       "      <td>48</td>\n",
       "    </tr>\n",
       "    <tr>\n",
       "      <th>2014-08-01</th>\n",
       "      <td>51</td>\n",
       "    </tr>\n",
       "    <tr>\n",
       "      <th>2014-09-01</th>\n",
       "      <td>55</td>\n",
       "    </tr>\n",
       "    <tr>\n",
       "      <th>2014-10-01</th>\n",
       "      <td>45</td>\n",
       "    </tr>\n",
       "    <tr>\n",
       "      <th>2014-11-01</th>\n",
       "      <td>33</td>\n",
       "    </tr>\n",
       "    <tr>\n",
       "      <th>2014-12-01</th>\n",
       "      <td>53</td>\n",
       "    </tr>\n",
       "  </tbody>\n",
       "</table>\n",
       "<p>120 rows × 1 columns</p>\n",
       "</div>"
      ],
      "text/plain": [
       "            Patient\n",
       "Date               \n",
       "2005-01-01       37\n",
       "2005-02-01       32\n",
       "2005-03-01       25\n",
       "2005-04-01       79\n",
       "2005-05-01       69\n",
       "2005-06-01       51\n",
       "2005-07-01       74\n",
       "2005-08-01       56\n",
       "2005-09-01       67\n",
       "2005-10-01       61\n",
       "2005-11-01       58\n",
       "2005-12-01       60\n",
       "2006-01-01       41\n",
       "2006-02-01       47\n",
       "2006-03-01       59\n",
       "2006-04-01       44\n",
       "2006-05-01       48\n",
       "2006-06-01       41\n",
       "2006-07-01       34\n",
       "2006-08-01       33\n",
       "2006-09-01       52\n",
       "2006-10-01       53\n",
       "2006-11-01       41\n",
       "2006-12-01       44\n",
       "2007-01-01       43\n",
       "2007-02-01       54\n",
       "2007-03-01       58\n",
       "2007-04-01       36\n",
       "2007-05-01       33\n",
       "2007-06-01       41\n",
       "...             ...\n",
       "2012-07-01       41\n",
       "2012-08-01       34\n",
       "2012-09-01       32\n",
       "2012-10-01       50\n",
       "2012-11-01       53\n",
       "2012-12-01       30\n",
       "2013-01-01       62\n",
       "2013-02-01       25\n",
       "2013-03-01       41\n",
       "2013-04-01       43\n",
       "2013-05-01       50\n",
       "2013-06-01       60\n",
       "2013-07-01       25\n",
       "2013-08-01       34\n",
       "2013-09-01       64\n",
       "2013-10-01       58\n",
       "2013-11-01       29\n",
       "2013-12-01       39\n",
       "2014-01-01       51\n",
       "2014-02-01       50\n",
       "2014-03-01       65\n",
       "2014-04-01       50\n",
       "2014-05-01       31\n",
       "2014-06-01       40\n",
       "2014-07-01       48\n",
       "2014-08-01       51\n",
       "2014-09-01       55\n",
       "2014-10-01       45\n",
       "2014-11-01       33\n",
       "2014-12-01       53\n",
       "\n",
       "[120 rows x 1 columns]"
      ]
     },
     "execution_count": 194,
     "metadata": {},
     "output_type": "execute_result"
    }
   ],
   "source": [
    "# Export Pandas DataFrame to a CSV File\n",
    "monthlyEncounter = pd.read_csv(\"../Datasets/Encounter/Cleaned/monthlyEncounter.csv\")\n",
    "#setting index as date\n",
    "monthlyEncounter['Date'] = pd.to_datetime(monthlyEncounter.Date,format='%Y-%m-%d')\n",
    "monthlyEncounter.index = monthlyEncounter['Date']\n",
    "monthlyEncounter.drop('Date', axis=1, inplace=True)\n",
    "#Converting the dataframe to a numpy array\n",
    "monthly_dataset = monthlyEncounter.values\n",
    "#Get teh last 60 day closing price \n",
    "last_60_months = monthlyEncounter[-60:].values\n",
    "#Scale the all of the data to be values between 0 and 1\n",
    "scaler = MinMaxScaler(feature_range=(0, 1)) \n",
    "monthly_scaled_data = scaler.fit_transform(monthly_dataset)\n",
    "#Scale the data to be values between 0 and 1\n",
    "last_60_months_scaled = scaler.transform(last_60_months)\n",
    "# monthlyEncounter"
   ]
  },
  {
   "cell_type": "markdown",
   "metadata": {},
   "source": [
    "# Predict Multiple Months"
   ]
  },
  {
   "cell_type": "code",
   "execution_count": 187,
   "metadata": {},
   "outputs": [],
   "source": [
    "monthly_data_len = len(monthly_dataset)\n",
    "#Test data set\n",
    "monthly_loaded_test_data = monthly_scaled_data[monthly_data_len-4 - 60: , : ]\n",
    "#Create the x_test and y_test data sets\n",
    "x_test = []\n",
    "# y_test =  dataset[training_data_len : , : ]\n",
    "#Get all of the rows from index 1603 to the rest and all of the columns (in this case it's only column 'Close'), so 2003 - 1603 = 400 rows of data\n",
    "for i in range(60,len(monthly_loaded_test_data)):\n",
    "    x_test.append(monthly_loaded_test_data[i-60:i,0])\n",
    "#Convert x_test to a numpy array \n",
    "x_test = np.array(x_test)\n",
    "#Reshape the data into the shape accepted by the LSTM\n",
    "x_test = np.reshape(x_test, (x_test.shape[0],x_test.shape[1],1))\n",
    "#Getting the models predicted price values\n",
    "pred_price = monthly_loaded_model.predict(x_test) \n",
    "pred_price = scaler.inverse_transform(pred_price)#Undo scaling"
   ]
  },
  {
   "cell_type": "code",
   "execution_count": 188,
   "metadata": {},
   "outputs": [
    {
     "data": {
      "text/plain": [
       "array([[42.46774 ],\n",
       "       [42.691586],\n",
       "       [42.826878],\n",
       "       [42.673153]], dtype=float32)"
      ]
     },
     "execution_count": 188,
     "metadata": {},
     "output_type": "execute_result"
    }
   ],
   "source": [
    "pred_price"
   ]
  },
  {
   "cell_type": "code",
   "execution_count": 189,
   "metadata": {},
   "outputs": [
    {
     "data": {
      "text/plain": [
       "(64, 1)"
      ]
     },
     "execution_count": 189,
     "metadata": {},
     "output_type": "execute_result"
    }
   ],
   "source": [
    "monthly_loaded_test_data.shape"
   ]
  },
  {
   "cell_type": "code",
   "execution_count": 190,
   "metadata": {},
   "outputs": [
    {
     "data": {
      "text/plain": [
       "'[[42.46773910522461], [42.691585540771484], [42.82687759399414], [42.673152923583984]]'"
      ]
     },
     "execution_count": 190,
     "metadata": {},
     "output_type": "execute_result"
    }
   ],
   "source": [
    "# convert numpy array to json\n",
    "import json\n",
    "lists = pred_price.tolist()\n",
    "json_str = json.dumps(lists)\n",
    "json_str\n",
    "# lists"
   ]
  },
  {
   "cell_type": "code",
   "execution_count": null,
   "metadata": {},
   "outputs": [],
   "source": []
  }
 ],
 "metadata": {
  "kernelspec": {
   "display_name": "Python 3",
   "language": "python",
   "name": "python3"
  },
  "language_info": {
   "codemirror_mode": {
    "name": "ipython",
    "version": 3
   },
   "file_extension": ".py",
   "mimetype": "text/x-python",
   "name": "python",
   "nbconvert_exporter": "python",
   "pygments_lexer": "ipython3",
   "version": "3.7.0"
  }
 },
 "nbformat": 4,
 "nbformat_minor": 2
}
